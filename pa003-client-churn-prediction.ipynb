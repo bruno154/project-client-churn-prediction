{
 "cells": [
  {
   "cell_type": "markdown",
   "metadata": {
    "ExecuteTime": {
     "end_time": "2020-11-18T21:55:55.370734Z",
     "start_time": "2020-11-18T21:55:55.367552Z"
    }
   },
   "source": [
    "# Business Context"
   ]
  },
  {
   "cell_type": "markdown",
   "metadata": {},
   "source": [
    "** Desafio **\n",
    "Criar um modelo de alta performance na identificação de clientes em churn.\n",
    "\n",
    "Sobre a Empresa:\n",
    "A TopBottonBank é um novo banco com atuação na europa.\n",
    " \n",
    "**Entregável:**\n",
    "Ao final da sua consultoria, você precisa entregar ao CEO da TopBottomBank um modelo em produção, que receberá uma base de clientes via API e desenvolverá essa base “scorada”, ou seja, um coluna à mais com a probabilidade de cada cliente entrar em churn.\n",
    "\n",
    "Perguntas a serem respondidas no report final:\n",
    "1-Qual a taxa de Churn atual da empresa?\n",
    "2-Como a taxa de Churn varia por mês?\n",
    "3-Qual a Performance do modelo em classificar os clientes como churns?\n",
    "4-Qual o Faturamento da empresa, se ela impedir que os clientes de entrar em Churn através do seu modelo?\n",
    "5-Qual o valor de um cupom de desconto você daria para o cliente, a fim de evitar churn? E qual o custo total desse incentivo para a empresa?\n",
    "\n",
    "**Index:**\n",
    " - 1.0 Problema de Negócio\n",
    " - 1.1 Importações de bibliotecas\n",
    " - 2.0 Coleta de Dados\n",
    " - 3.0 Descrição dos Dados\n",
    " - 4.0 Limpeza de dados\n",
    " - 5.0 Feature Engineering\n",
    " - 6.0 EDA\n",
    " - 7.0 Data Preparation\n",
    " - 8.0 Feature Selection\n",
    " - 9.0 Model Selection\n",
    " - 10.0 Tunning/Treinamento do modelo\n",
    " - 11.0 API\n",
    " \n",
    "**Estrátegia:**\n",
    "2.0 Coleta de Dados:\n",
    "Coletar os dados utilizando pd.read_csv().\n",
    "\n",
    "3.0 Descrição dos Dados:\n",
    "- Descrever as seguintes infos por feature: percentual de missing, valores únicos,     percentual de valores únicos, tipos de dados, skew, kurtosis.\n",
    "- Descrever Gender vs Exited.\n",
    "- Descrever Geography vs Exited.\n",
    "- Descrever HasCrCard vs Exited \n",
    "- Descrever IsActiveMember vs Exited\n",
    "- Descrever a variável 'type' com relação ao target.\n",
    "- Descrever outras variáveis conforme for pertinente.\n",
    "- Investigar a presença de Outliers.\n",
    "\n",
    "4.0 Limpeza de dados:\n",
    "- Investigar e eliminar os outliers\n",
    "\n",
    "\n",
    "5.0 Feature Engineering\n",
    "\n",
    "6.0 EDA\n",
    "\n",
    "7.0 Teste de Hipoteses\n",
    "\n",
    "8.0 Data Preparation\n",
    "\n",
    "9.0 Feature Selection\n",
    "\n",
    "10.0 Model Selection\n",
    "\n",
    "11.0 Tunning/Treinamento do modelo\n",
    "\n",
    "12.0 API"
   ]
  },
  {
   "cell_type": "markdown",
   "metadata": {},
   "source": [
    "## Imports"
   ]
  },
  {
   "cell_type": "code",
   "execution_count": 9,
   "metadata": {
    "ExecuteTime": {
     "end_time": "2020-11-21T21:48:05.433262Z",
     "start_time": "2020-11-21T21:48:05.429548Z"
    }
   },
   "outputs": [],
   "source": [
    "import pandas as pd\n",
    "import numpy as np\n",
    "import seaborn as sns\n",
    "import matplotlib.pyplot as plt\n",
    "from sklearn.cluster import KMeans\n",
    "from sklearn.preprocessing import OrdinalEncoder"
   ]
  },
  {
   "cell_type": "markdown",
   "metadata": {
    "heading_collapsed": true
   },
   "source": [
    "## Helper Functions"
   ]
  },
  {
   "cell_type": "code",
   "execution_count": null,
   "metadata": {
    "ExecuteTime": {
     "end_time": "2020-11-21T09:02:54.630981Z",
     "start_time": "2020-11-21T09:02:54.623901Z"
    },
    "hidden": true
   },
   "outputs": [],
   "source": [
    "def multi_boxplots(df, variables: list) -> None:\n",
    "\n",
    "    \"\"\"\n",
    "    Function to check for outliers visually through a boxplot\n",
    "\n",
    "    data: DataFrame\n",
    "\n",
    "    variable: list of numerical variables\n",
    "    \"\"\"\n",
    "\n",
    "    # set of initial plot posistion\n",
    "    n = 1\n",
    "\n",
    "    plt.figure(figsize=(18, 10))\n",
    "    for column in df[variables].columns:\n",
    "        plt.subplot(3, 3, n)\n",
    "        _ = sns.boxplot(x=column, data=df)\n",
    "        n += 1\n",
    "\n",
    "    plt.subplots_adjust(hspace=0.3)\n",
    "\n",
    "    plt.show()"
   ]
  },
  {
   "cell_type": "markdown",
   "metadata": {},
   "source": [
    "# Data Colection"
   ]
  },
  {
   "cell_type": "code",
   "execution_count": 10,
   "metadata": {
    "ExecuteTime": {
     "end_time": "2020-11-21T21:48:09.850427Z",
     "start_time": "2020-11-21T21:48:09.824978Z"
    }
   },
   "outputs": [
    {
     "data": {
      "text/html": [
       "<div>\n",
       "<style scoped>\n",
       "    .dataframe tbody tr th:only-of-type {\n",
       "        vertical-align: middle;\n",
       "    }\n",
       "\n",
       "    .dataframe tbody tr th {\n",
       "        vertical-align: top;\n",
       "    }\n",
       "\n",
       "    .dataframe thead th {\n",
       "        text-align: right;\n",
       "    }\n",
       "</style>\n",
       "<table border=\"1\" class=\"dataframe\">\n",
       "  <thead>\n",
       "    <tr style=\"text-align: right;\">\n",
       "      <th></th>\n",
       "      <th>RowNumber</th>\n",
       "      <th>CustomerId</th>\n",
       "      <th>Surname</th>\n",
       "      <th>CreditScore</th>\n",
       "      <th>Geography</th>\n",
       "      <th>Gender</th>\n",
       "      <th>Age</th>\n",
       "      <th>Tenure</th>\n",
       "      <th>Balance</th>\n",
       "      <th>NumOfProducts</th>\n",
       "      <th>HasCrCard</th>\n",
       "      <th>IsActiveMember</th>\n",
       "      <th>EstimatedSalary</th>\n",
       "      <th>Exited</th>\n",
       "    </tr>\n",
       "  </thead>\n",
       "  <tbody>\n",
       "    <tr>\n",
       "      <th>0</th>\n",
       "      <td>1</td>\n",
       "      <td>15634602</td>\n",
       "      <td>Hargrave</td>\n",
       "      <td>619</td>\n",
       "      <td>France</td>\n",
       "      <td>Female</td>\n",
       "      <td>42</td>\n",
       "      <td>2</td>\n",
       "      <td>0.00</td>\n",
       "      <td>1</td>\n",
       "      <td>1</td>\n",
       "      <td>1</td>\n",
       "      <td>101348.88</td>\n",
       "      <td>1</td>\n",
       "    </tr>\n",
       "    <tr>\n",
       "      <th>1</th>\n",
       "      <td>2</td>\n",
       "      <td>15647311</td>\n",
       "      <td>Hill</td>\n",
       "      <td>608</td>\n",
       "      <td>Spain</td>\n",
       "      <td>Female</td>\n",
       "      <td>41</td>\n",
       "      <td>1</td>\n",
       "      <td>83807.86</td>\n",
       "      <td>1</td>\n",
       "      <td>0</td>\n",
       "      <td>1</td>\n",
       "      <td>112542.58</td>\n",
       "      <td>0</td>\n",
       "    </tr>\n",
       "    <tr>\n",
       "      <th>2</th>\n",
       "      <td>3</td>\n",
       "      <td>15619304</td>\n",
       "      <td>Onio</td>\n",
       "      <td>502</td>\n",
       "      <td>France</td>\n",
       "      <td>Female</td>\n",
       "      <td>42</td>\n",
       "      <td>8</td>\n",
       "      <td>159660.80</td>\n",
       "      <td>3</td>\n",
       "      <td>1</td>\n",
       "      <td>0</td>\n",
       "      <td>113931.57</td>\n",
       "      <td>1</td>\n",
       "    </tr>\n",
       "    <tr>\n",
       "      <th>3</th>\n",
       "      <td>4</td>\n",
       "      <td>15701354</td>\n",
       "      <td>Boni</td>\n",
       "      <td>699</td>\n",
       "      <td>France</td>\n",
       "      <td>Female</td>\n",
       "      <td>39</td>\n",
       "      <td>1</td>\n",
       "      <td>0.00</td>\n",
       "      <td>2</td>\n",
       "      <td>0</td>\n",
       "      <td>0</td>\n",
       "      <td>93826.63</td>\n",
       "      <td>0</td>\n",
       "    </tr>\n",
       "    <tr>\n",
       "      <th>4</th>\n",
       "      <td>5</td>\n",
       "      <td>15737888</td>\n",
       "      <td>Mitchell</td>\n",
       "      <td>850</td>\n",
       "      <td>Spain</td>\n",
       "      <td>Female</td>\n",
       "      <td>43</td>\n",
       "      <td>2</td>\n",
       "      <td>125510.82</td>\n",
       "      <td>1</td>\n",
       "      <td>1</td>\n",
       "      <td>1</td>\n",
       "      <td>79084.10</td>\n",
       "      <td>0</td>\n",
       "    </tr>\n",
       "  </tbody>\n",
       "</table>\n",
       "</div>"
      ],
      "text/plain": [
       "   RowNumber  CustomerId   Surname  CreditScore Geography  Gender  Age  \\\n",
       "0          1    15634602  Hargrave          619    France  Female   42   \n",
       "1          2    15647311      Hill          608     Spain  Female   41   \n",
       "2          3    15619304      Onio          502    France  Female   42   \n",
       "3          4    15701354      Boni          699    France  Female   39   \n",
       "4          5    15737888  Mitchell          850     Spain  Female   43   \n",
       "\n",
       "   Tenure    Balance  NumOfProducts  HasCrCard  IsActiveMember  \\\n",
       "0       2       0.00              1          1               1   \n",
       "1       1   83807.86              1          0               1   \n",
       "2       8  159660.80              3          1               0   \n",
       "3       1       0.00              2          0               0   \n",
       "4       2  125510.82              1          1               1   \n",
       "\n",
       "   EstimatedSalary  Exited  \n",
       "0        101348.88       1  \n",
       "1        112542.58       0  \n",
       "2        113931.57       1  \n",
       "3         93826.63       0  \n",
       "4         79084.10       0  "
      ]
     },
     "execution_count": 10,
     "metadata": {},
     "output_type": "execute_result"
    }
   ],
   "source": [
    "churn = pd.read_csv('data/churn.csv')\n",
    "churn.head()"
   ]
  },
  {
   "cell_type": "markdown",
   "metadata": {
    "ExecuteTime": {
     "end_time": "2020-11-19T22:13:32.782942Z",
     "start_time": "2020-11-19T22:13:32.779777Z"
    }
   },
   "source": [
    "# Data Description"
   ]
  },
  {
   "cell_type": "markdown",
   "metadata": {},
   "source": [
    "**Book de Variáveis:**\n",
    "\n",
    "Age: Idade do cliente.\n",
    "\n",
    "Balance: Quantidade de dinheiro na\n",
    "\n",
    "CreditScore: Score de crédito do cliente.\n",
    "\n",
    "CustomerId: Identificador unico do cliente.\n",
    "\n",
    "EstimatedSalary: Salário estimado do cliente.\n",
    "\n",
    "Exited: Variável target se ocorreu ou não churn do cliente.\n",
    "\n",
    "Gender: Genêro do cliente.\n",
    "\n",
    "Geography: Localizaçao do cliente.\n",
    "\n",
    "HasCrCard: Flag se o cliente possui um cartão de crédito ou não\n",
    "\n",
    "IsActiveMember: Flag se o cliente é ativo ou não.\n",
    "\n",
    "RowNumber: Número da linha no dataset.\n",
    "\n",
    "Surname: Sobrenome do cliente.\n",
    "\n",
    "Ternure: Quantidade em anos que o cliente ainda está no banco ( no-churn ) e ela também diz quanto tempo o cliente ficou no banco até o churn."
   ]
  },
  {
   "cell_type": "code",
   "execution_count": 3,
   "metadata": {
    "ExecuteTime": {
     "end_time": "2020-11-21T21:42:00.679323Z",
     "start_time": "2020-11-21T21:42:00.603290Z"
    }
   },
   "outputs": [
    {
     "data": {
      "text/html": [
       "<div>\n",
       "<style scoped>\n",
       "    .dataframe tbody tr th:only-of-type {\n",
       "        vertical-align: middle;\n",
       "    }\n",
       "\n",
       "    .dataframe tbody tr th {\n",
       "        vertical-align: top;\n",
       "    }\n",
       "\n",
       "    .dataframe thead th {\n",
       "        text-align: right;\n",
       "    }\n",
       "</style>\n",
       "<table border=\"1\" class=\"dataframe\">\n",
       "  <thead>\n",
       "    <tr style=\"text-align: right;\">\n",
       "      <th></th>\n",
       "      <th>missing</th>\n",
       "      <th>uniques</th>\n",
       "      <th>dtypes</th>\n",
       "      <th>min</th>\n",
       "      <th>mean</th>\n",
       "      <th>median</th>\n",
       "      <th>max</th>\n",
       "      <th>skew</th>\n",
       "      <th>kurtosis</th>\n",
       "    </tr>\n",
       "  </thead>\n",
       "  <tbody>\n",
       "    <tr>\n",
       "      <th>Age</th>\n",
       "      <td>0.0</td>\n",
       "      <td>70</td>\n",
       "      <td>int64</td>\n",
       "      <td>18</td>\n",
       "      <td>3.892180e+01</td>\n",
       "      <td>3.700000e+01</td>\n",
       "      <td>92</td>\n",
       "      <td>1.011320</td>\n",
       "      <td>1.395347</td>\n",
       "    </tr>\n",
       "    <tr>\n",
       "      <th>Balance</th>\n",
       "      <td>0.0</td>\n",
       "      <td>6382</td>\n",
       "      <td>float64</td>\n",
       "      <td>0</td>\n",
       "      <td>7.648589e+04</td>\n",
       "      <td>9.719854e+04</td>\n",
       "      <td>250898</td>\n",
       "      <td>-0.141109</td>\n",
       "      <td>-1.489412</td>\n",
       "    </tr>\n",
       "    <tr>\n",
       "      <th>CreditScore</th>\n",
       "      <td>0.0</td>\n",
       "      <td>460</td>\n",
       "      <td>int64</td>\n",
       "      <td>350</td>\n",
       "      <td>6.505288e+02</td>\n",
       "      <td>6.520000e+02</td>\n",
       "      <td>850</td>\n",
       "      <td>-0.071607</td>\n",
       "      <td>-0.425726</td>\n",
       "    </tr>\n",
       "    <tr>\n",
       "      <th>CustomerId</th>\n",
       "      <td>0.0</td>\n",
       "      <td>10000</td>\n",
       "      <td>int64</td>\n",
       "      <td>15565701</td>\n",
       "      <td>1.569094e+07</td>\n",
       "      <td>1.569074e+07</td>\n",
       "      <td>15815690</td>\n",
       "      <td>0.001149</td>\n",
       "      <td>-1.196113</td>\n",
       "    </tr>\n",
       "    <tr>\n",
       "      <th>EstimatedSalary</th>\n",
       "      <td>0.0</td>\n",
       "      <td>9999</td>\n",
       "      <td>float64</td>\n",
       "      <td>11.58</td>\n",
       "      <td>1.000902e+05</td>\n",
       "      <td>1.001939e+05</td>\n",
       "      <td>199992</td>\n",
       "      <td>0.002085</td>\n",
       "      <td>-1.181518</td>\n",
       "    </tr>\n",
       "    <tr>\n",
       "      <th>Exited</th>\n",
       "      <td>0.0</td>\n",
       "      <td>2</td>\n",
       "      <td>int64</td>\n",
       "      <td>0</td>\n",
       "      <td>2.037000e-01</td>\n",
       "      <td>0.000000e+00</td>\n",
       "      <td>1</td>\n",
       "      <td>1.471611</td>\n",
       "      <td>0.165671</td>\n",
       "    </tr>\n",
       "    <tr>\n",
       "      <th>Gender</th>\n",
       "      <td>0.0</td>\n",
       "      <td>2</td>\n",
       "      <td>object</td>\n",
       "      <td>Female</td>\n",
       "      <td>NaN</td>\n",
       "      <td>NaN</td>\n",
       "      <td>Male</td>\n",
       "      <td>NaN</td>\n",
       "      <td>NaN</td>\n",
       "    </tr>\n",
       "    <tr>\n",
       "      <th>Geography</th>\n",
       "      <td>0.0</td>\n",
       "      <td>3</td>\n",
       "      <td>object</td>\n",
       "      <td>France</td>\n",
       "      <td>NaN</td>\n",
       "      <td>NaN</td>\n",
       "      <td>Spain</td>\n",
       "      <td>NaN</td>\n",
       "      <td>NaN</td>\n",
       "    </tr>\n",
       "    <tr>\n",
       "      <th>HasCrCard</th>\n",
       "      <td>0.0</td>\n",
       "      <td>2</td>\n",
       "      <td>int64</td>\n",
       "      <td>0</td>\n",
       "      <td>7.055000e-01</td>\n",
       "      <td>1.000000e+00</td>\n",
       "      <td>1</td>\n",
       "      <td>-0.901812</td>\n",
       "      <td>-1.186973</td>\n",
       "    </tr>\n",
       "    <tr>\n",
       "      <th>IsActiveMember</th>\n",
       "      <td>0.0</td>\n",
       "      <td>2</td>\n",
       "      <td>int64</td>\n",
       "      <td>0</td>\n",
       "      <td>5.151000e-01</td>\n",
       "      <td>1.000000e+00</td>\n",
       "      <td>1</td>\n",
       "      <td>-0.060437</td>\n",
       "      <td>-1.996747</td>\n",
       "    </tr>\n",
       "    <tr>\n",
       "      <th>NumOfProducts</th>\n",
       "      <td>0.0</td>\n",
       "      <td>4</td>\n",
       "      <td>int64</td>\n",
       "      <td>1</td>\n",
       "      <td>1.530200e+00</td>\n",
       "      <td>1.000000e+00</td>\n",
       "      <td>4</td>\n",
       "      <td>0.745568</td>\n",
       "      <td>0.582981</td>\n",
       "    </tr>\n",
       "    <tr>\n",
       "      <th>RowNumber</th>\n",
       "      <td>0.0</td>\n",
       "      <td>10000</td>\n",
       "      <td>int64</td>\n",
       "      <td>1</td>\n",
       "      <td>5.000500e+03</td>\n",
       "      <td>5.000500e+03</td>\n",
       "      <td>10000</td>\n",
       "      <td>0.000000</td>\n",
       "      <td>-1.200000</td>\n",
       "    </tr>\n",
       "    <tr>\n",
       "      <th>Surname</th>\n",
       "      <td>0.0</td>\n",
       "      <td>2932</td>\n",
       "      <td>object</td>\n",
       "      <td>Abazu</td>\n",
       "      <td>NaN</td>\n",
       "      <td>NaN</td>\n",
       "      <td>Zuyeva</td>\n",
       "      <td>NaN</td>\n",
       "      <td>NaN</td>\n",
       "    </tr>\n",
       "    <tr>\n",
       "      <th>Tenure</th>\n",
       "      <td>0.0</td>\n",
       "      <td>11</td>\n",
       "      <td>int64</td>\n",
       "      <td>0</td>\n",
       "      <td>5.012800e+00</td>\n",
       "      <td>5.000000e+00</td>\n",
       "      <td>10</td>\n",
       "      <td>0.010991</td>\n",
       "      <td>-1.165225</td>\n",
       "    </tr>\n",
       "  </tbody>\n",
       "</table>\n",
       "</div>"
      ],
      "text/plain": [
       "                 missing  uniques   dtypes       min          mean  \\\n",
       "Age                  0.0       70    int64        18  3.892180e+01   \n",
       "Balance              0.0     6382  float64         0  7.648589e+04   \n",
       "CreditScore          0.0      460    int64       350  6.505288e+02   \n",
       "CustomerId           0.0    10000    int64  15565701  1.569094e+07   \n",
       "EstimatedSalary      0.0     9999  float64     11.58  1.000902e+05   \n",
       "Exited               0.0        2    int64         0  2.037000e-01   \n",
       "Gender               0.0        2   object    Female           NaN   \n",
       "Geography            0.0        3   object    France           NaN   \n",
       "HasCrCard            0.0        2    int64         0  7.055000e-01   \n",
       "IsActiveMember       0.0        2    int64         0  5.151000e-01   \n",
       "NumOfProducts        0.0        4    int64         1  1.530200e+00   \n",
       "RowNumber            0.0    10000    int64         1  5.000500e+03   \n",
       "Surname              0.0     2932   object     Abazu           NaN   \n",
       "Tenure               0.0       11    int64         0  5.012800e+00   \n",
       "\n",
       "                       median       max      skew  kurtosis  \n",
       "Age              3.700000e+01        92  1.011320  1.395347  \n",
       "Balance          9.719854e+04    250898 -0.141109 -1.489412  \n",
       "CreditScore      6.520000e+02       850 -0.071607 -0.425726  \n",
       "CustomerId       1.569074e+07  15815690  0.001149 -1.196113  \n",
       "EstimatedSalary  1.001939e+05    199992  0.002085 -1.181518  \n",
       "Exited           0.000000e+00         1  1.471611  0.165671  \n",
       "Gender                    NaN      Male       NaN       NaN  \n",
       "Geography                 NaN     Spain       NaN       NaN  \n",
       "HasCrCard        1.000000e+00         1 -0.901812 -1.186973  \n",
       "IsActiveMember   1.000000e+00         1 -0.060437 -1.996747  \n",
       "NumOfProducts    1.000000e+00         4  0.745568  0.582981  \n",
       "RowNumber        5.000500e+03     10000  0.000000 -1.200000  \n",
       "Surname                   NaN    Zuyeva       NaN       NaN  \n",
       "Tenure           5.000000e+00        10  0.010991 -1.165225  "
      ]
     },
     "execution_count": 3,
     "metadata": {},
     "output_type": "execute_result"
    }
   ],
   "source": [
    "pd.DataFrame({'missing' :churn.isna().mean(),\n",
    "              'uniques' :churn.nunique(),\n",
    "              'dtypes'  :churn.dtypes,\n",
    "              'min'     :churn.min(),\n",
    "              'mean'    :churn.mean(),\n",
    "              'median'  :churn.median(),\n",
    "              'max'     :churn.max(),\n",
    "              'skew'    :churn.skew(),\n",
    "              'kurtosis':churn.kurtosis()})"
   ]
  },
  {
   "cell_type": "markdown",
   "metadata": {},
   "source": [
    " - Temos dados de diferentes escalas\n",
    " - 'Customerid' e 'RowNumber' é um idientificador único podemos eliminar ou utiliza-lo como index do dataframe.\n",
    " - As variáveis 'HasCrCard' 'IsActiveMember' são categoricas ordinais iremos alterar o seu tipo para category."
   ]
  },
  {
   "cell_type": "markdown",
   "metadata": {},
   "source": [
    "## Target - Exited"
   ]
  },
  {
   "cell_type": "code",
   "execution_count": 8,
   "metadata": {
    "ExecuteTime": {
     "end_time": "2020-11-21T21:46:08.472230Z",
     "start_time": "2020-11-21T21:46:08.345857Z"
    }
   },
   "outputs": [
    {
     "data": {
      "image/png": "[encoded data removed]",
      "text/plain": [
       "<Figure size 720x432 with 1 Axes>"
      ]
     },
     "metadata": {},
     "output_type": "display_data"
    }
   ],
   "source": [
    "# Checkando o balanciamento da varipavel Target\n",
    "\n",
    "sns.set(style='darkgrid', palette='Accent')\n",
    "ax = sns.countplot(x='Exited', hue=None, data=churn)\n",
    "ax.figure.set_size_inches(10, 6)\n",
    "ax.set_title('Feature Distribution', fontsize=18, loc='center')\n",
    "ax.set_xlabel('Exited', fontsize=14)\n",
    "ax.set_ylabel('Count', fontsize=14)\n",
    "ax=ax"
   ]
  },
  {
   "cell_type": "markdown",
   "metadata": {},
   "source": [
    "- Podemos observar que as classes da variável Target esta desbalanciada."
   ]
  },
  {
   "cell_type": "markdown",
   "metadata": {
    "heading_collapsed": true
   },
   "source": [
    "## Descrever Gender vs Exited"
   ]
  },
  {
   "cell_type": "code",
   "execution_count": 4,
   "metadata": {
    "ExecuteTime": {
     "end_time": "2020-11-21T19:00:35.572076Z",
     "start_time": "2020-11-21T19:00:35.397699Z"
    },
    "hidden": true
   },
   "outputs": [
    {
     "data": {
      "image/png": "[encoded data removed]",
      "text/plain": [
       "<Figure size 720x432 with 1 Axes>"
      ]
     },
     "metadata": {},
     "output_type": "display_data"
    }
   ],
   "source": [
    "sns.set(style='darkgrid', palette='Accent')\n",
    "ax = sns.countplot(x='Gender', hue='Exited', data=churn)\n",
    "ax.figure.set_size_inches(10, 6)\n",
    "ax.set_title('Feature Distribution', fontsize=18, loc='center')\n",
    "ax.set_xlabel('Gender', fontsize=14)\n",
    "ax.set_ylabel('Count', fontsize=14)\n",
    "ax=ax"
   ]
  },
  {
   "cell_type": "markdown",
   "metadata": {
    "hidden": true
   },
   "source": [
    " - Aparentemente não existe uma concentração do evento de 'Churn' conforme o genero."
   ]
  },
  {
   "cell_type": "markdown",
   "metadata": {
    "heading_collapsed": true
   },
   "source": [
    "## Descrever Geography vs Exited"
   ]
  },
  {
   "cell_type": "code",
   "execution_count": 5,
   "metadata": {
    "ExecuteTime": {
     "end_time": "2020-11-21T19:00:42.123092Z",
     "start_time": "2020-11-21T19:00:41.943690Z"
    },
    "hidden": true
   },
   "outputs": [
    {
     "data": {
      "image/png": "[encoded data removed]",
      "text/plain": [
       "<Figure size 720x432 with 1 Axes>"
      ]
     },
     "metadata": {},
     "output_type": "display_data"
    }
   ],
   "source": [
    "sns.set(style='darkgrid', palette='Accent')\n",
    "ax = sns.countplot(x='Geography', hue='Exited', data=churn)\n",
    "ax.figure.set_size_inches(10, 6)\n",
    "ax.set_title('Feature Distribution', fontsize=18, loc='center')\n",
    "ax.set_xlabel('Geography', fontsize=14)\n",
    "ax.set_ylabel('Count', fontsize=14)\n",
    "ax=ax"
   ]
  },
  {
   "cell_type": "code",
   "execution_count": null,
   "metadata": {
    "ExecuteTime": {
     "end_time": "2020-11-19T23:49:02.081214Z",
     "start_time": "2020-11-19T23:49:02.064796Z"
    },
    "hidden": true
   },
   "outputs": [],
   "source": [
    "# Percentual de observações por valores Geography\n",
    "churn.groupby('Geography').count()['RowNumber'].apply(lambda x: (x/churn.shape[0])*100)"
   ]
  },
  {
   "cell_type": "markdown",
   "metadata": {
    "hidden": true
   },
   "source": [
    "- Notamos que proporcionalmente parece ocorrer um maior churn de clientes da Alemanha. A mesma possui comente 25% das observações porém possui mais eventos churn que as demais categorias."
   ]
  },
  {
   "cell_type": "markdown",
   "metadata": {
    "heading_collapsed": true
   },
   "source": [
    "## Descrever HasCrCard vs Exited"
   ]
  },
  {
   "cell_type": "code",
   "execution_count": 6,
   "metadata": {
    "ExecuteTime": {
     "end_time": "2020-11-21T19:00:49.621713Z",
     "start_time": "2020-11-21T19:00:49.469991Z"
    },
    "hidden": true
   },
   "outputs": [
    {
     "data": {
      "image/png": "[encoded data removed]",
      "text/plain": [
       "<Figure size 720x432 with 1 Axes>"
      ]
     },
     "metadata": {},
     "output_type": "display_data"
    }
   ],
   "source": [
    "sns.set(style='darkgrid', palette='Accent')\n",
    "ax = sns.countplot(x='HasCrCard', hue='Exited', data=churn)\n",
    "ax.figure.set_size_inches(10, 6)\n",
    "ax.set_title('Feature Distribution', fontsize=18, loc='center')\n",
    "ax.set_xlabel('HasCrCard', fontsize=14)\n",
    "ax.set_ylabel('Count', fontsize=14)\n",
    "ax=ax"
   ]
  },
  {
   "cell_type": "code",
   "execution_count": null,
   "metadata": {
    "ExecuteTime": {
     "end_time": "2020-11-19T23:47:57.636684Z",
     "start_time": "2020-11-19T23:47:57.623182Z"
    },
    "hidden": true
   },
   "outputs": [],
   "source": [
    "# Percentual de observações por valores HasCrCard\n",
    "churn.groupby('HasCrCard').count()['RowNumber'].apply(lambda x: (x/churn.shape[0])*100)"
   ]
  },
  {
   "cell_type": "markdown",
   "metadata": {
    "ExecuteTime": {
     "end_time": "2020-11-19T23:40:48.865585Z",
     "start_time": "2020-11-19T23:40:48.859144Z"
    },
    "hidden": true
   },
   "source": [
    "- Devido a maior concentração de obseravções com cartão de credito temos também maior numero de eventos de churn."
   ]
  },
  {
   "cell_type": "markdown",
   "metadata": {
    "heading_collapsed": true
   },
   "source": [
    "## Descrever IsActiveMember vs Exited"
   ]
  },
  {
   "cell_type": "code",
   "execution_count": 7,
   "metadata": {
    "ExecuteTime": {
     "end_time": "2020-11-21T19:00:54.887228Z",
     "start_time": "2020-11-21T19:00:54.746474Z"
    },
    "hidden": true
   },
   "outputs": [
    {
     "data": {
      "image/png": "[encoded data removed]",
      "text/plain": [
       "<Figure size 720x432 with 1 Axes>"
      ]
     },
     "metadata": {},
     "output_type": "display_data"
    }
   ],
   "source": [
    "sns.set(style='darkgrid', palette='Accent')\n",
    "ax = sns.countplot(x='IsActiveMember', hue='Exited', data=churn)\n",
    "ax.figure.set_size_inches(10, 6)\n",
    "ax.set_title('Feature Distribution', fontsize=18, loc='center')\n",
    "ax.set_xlabel('IsActiveMember', fontsize=14)\n",
    "ax.set_ylabel('Count', fontsize=14)\n",
    "ax=ax"
   ]
  },
  {
   "cell_type": "code",
   "execution_count": null,
   "metadata": {
    "ExecuteTime": {
     "end_time": "2020-11-19T23:50:47.988286Z",
     "start_time": "2020-11-19T23:50:47.974708Z"
    },
    "hidden": true
   },
   "outputs": [],
   "source": [
    "# Percentual de observações por valores HasCrCard\n",
    "churn.groupby('IsActiveMember').count()['RowNumber'].apply(lambda x: (x/churn.shape[0])*100)"
   ]
  },
  {
   "cell_type": "markdown",
   "metadata": {
    "ExecuteTime": {
     "end_time": "2020-11-19T23:38:49.919536Z",
     "start_time": "2020-11-19T23:38:49.914461Z"
    },
    "hidden": true
   },
   "source": [
    " - Em um primeiro momento notamos que a inatividade leva a um maior churn. Os eventos estão distribuídos porém com maior quantidade de eventos de churn na categoria de inatividade."
   ]
  },
  {
   "cell_type": "markdown",
   "metadata": {
    "ExecuteTime": {
     "end_time": "2020-11-20T00:11:51.737992Z",
     "start_time": "2020-11-20T00:11:51.734725Z"
    },
    "heading_collapsed": true
   },
   "source": [
    "## Alterando os tipos das variáveis 'HasCrCard', 'IsActiveMember', Exited"
   ]
  },
  {
   "cell_type": "code",
   "execution_count": 8,
   "metadata": {
    "ExecuteTime": {
     "end_time": "2020-11-21T19:00:59.556778Z",
     "start_time": "2020-11-21T19:00:59.541544Z"
    },
    "hidden": true
   },
   "outputs": [],
   "source": [
    "# Alterando o tipo de dados para category\n",
    "colunas = ['HasCrCard','IsActiveMember', 'Exited', 'Surname', 'Geography','Gender']\n",
    "\n",
    "for col in colunas:\n",
    "    churn[col] = churn[col].astype('category')"
   ]
  },
  {
   "cell_type": "code",
   "execution_count": 9,
   "metadata": {
    "ExecuteTime": {
     "end_time": "2020-11-21T19:01:02.925152Z",
     "start_time": "2020-11-21T19:01:02.915677Z"
    },
    "hidden": true
   },
   "outputs": [
    {
     "data": {
      "text/plain": [
       "RowNumber             int64\n",
       "CustomerId            int64\n",
       "Surname            category\n",
       "CreditScore           int64\n",
       "Geography          category\n",
       "Gender             category\n",
       "Age                   int64\n",
       "Tenure                int64\n",
       "Balance             float64\n",
       "NumOfProducts         int64\n",
       "HasCrCard          category\n",
       "IsActiveMember     category\n",
       "EstimatedSalary     float64\n",
       "Exited             category\n",
       "dtype: object"
      ]
     },
     "execution_count": 9,
     "metadata": {},
     "output_type": "execute_result"
    }
   ],
   "source": [
    "# checkando os tipos\n",
    "churn.dtypes"
   ]
  },
  {
   "cell_type": "markdown",
   "metadata": {
    "heading_collapsed": true
   },
   "source": [
    "## Checkando a Presença de Outliers"
   ]
  },
  {
   "cell_type": "code",
   "execution_count": 10,
   "metadata": {
    "ExecuteTime": {
     "end_time": "2020-11-21T19:01:08.253968Z",
     "start_time": "2020-11-21T19:01:07.357596Z"
    },
    "hidden": true
   },
   "outputs": [
    {
     "data": {
      "image/png": "[encoded data removed]",
      "text/plain": [
       "<Figure size 1296x720 with 8 Axes>"
      ]
     },
     "metadata": {},
     "output_type": "display_data"
    }
   ],
   "source": [
    "# Variáveis\n",
    "variables = churn.select_dtypes(['int64', 'float64']).columns.to_list()\n",
    "\n",
    "# Setando a posicão inicial\n",
    "n = 1\n",
    "\n",
    "plt.figure(figsize=(18, 10))\n",
    "for column in churn[variables].columns:\n",
    "    plt.subplot(4, 4, n)\n",
    "    _ = sns.boxplot(x=column, data=churn)\n",
    "    n += 1\n",
    "\n",
    "plt.subplots_adjust(hspace=0.5)\n",
    "plt.show()"
   ]
  },
  {
   "cell_type": "markdown",
   "metadata": {
    "hidden": true
   },
   "source": [
    " - Observamos Outliers nas variáveis 'CreditScore', 'Age','NumOfProducts'"
   ]
  },
  {
   "cell_type": "markdown",
   "metadata": {
    "heading_collapsed": true,
    "hidden": true
   },
   "source": [
    "### CreditScore"
   ]
  },
  {
   "cell_type": "code",
   "execution_count": 11,
   "metadata": {
    "ExecuteTime": {
     "end_time": "2020-11-21T19:01:14.369427Z",
     "start_time": "2020-11-21T19:01:14.360241Z"
    },
    "hidden": true
   },
   "outputs": [
    {
     "name": "stdout",
     "output_type": "stream",
     "text": [
      "O limite inferior é 383.0\n",
      "O limite superior é 919.0\n"
     ]
    }
   ],
   "source": [
    "# Calculando o Q1 e Q3 e IQR\n",
    "Q1 = np.quantile(churn['CreditScore'], .25)\n",
    "Q3 = np.quantile(churn['CreditScore'], .75)\n",
    "IQR = Q3 - Q1\n",
    "\n",
    "# Calculando os limites low and high\n",
    "low = Q1 - 1.5 * IQR\n",
    "high = Q3 + 1.5 * IQR\n",
    "\n",
    "# priting the limits\n",
    "print(f'O limite inferior é {low}')\n",
    "print(f'O limite superior é {high}')"
   ]
  },
  {
   "cell_type": "markdown",
   "metadata": {
    "hidden": true
   },
   "source": [
    " - Filtrando somente o limite inferior, pois no boxplot observamos outliers somente no limite inferior."
   ]
  },
  {
   "cell_type": "markdown",
   "metadata": {
    "heading_collapsed": true,
    "hidden": true
   },
   "source": [
    "### Age"
   ]
  },
  {
   "cell_type": "code",
   "execution_count": 12,
   "metadata": {
    "ExecuteTime": {
     "end_time": "2020-11-21T19:01:19.145091Z",
     "start_time": "2020-11-21T19:01:19.135624Z"
    },
    "hidden": true
   },
   "outputs": [
    {
     "name": "stdout",
     "output_type": "stream",
     "text": [
      "O limite inferior é 14.0\n",
      "O limite superior é 62.0\n"
     ]
    }
   ],
   "source": [
    "# Calculando o Q1 e Q3 e IQR\n",
    "Q1 = np.quantile(churn['Age'], .25)\n",
    "Q3 = np.quantile(churn['Age'], .75)\n",
    "IQR = Q3 - Q1\n",
    "\n",
    "# Calculando os limites low and high\n",
    "low = Q1 - 1.5 * IQR\n",
    "high = Q3 + 1.5 * IQR\n",
    "\n",
    "# priting the limits\n",
    "print(f'O limite inferior é {low}')\n",
    "print(f'O limite superior é {high}')"
   ]
  },
  {
   "cell_type": "markdown",
   "metadata": {
    "ExecuteTime": {
     "end_time": "2020-11-21T09:39:14.619098Z",
     "start_time": "2020-11-21T09:39:14.613208Z"
    },
    "hidden": true
   },
   "source": [
    " - Filtrando somente o limite superior, pois no boxplot observamos outliers somente no limite superior."
   ]
  },
  {
   "cell_type": "markdown",
   "metadata": {
    "heading_collapsed": true,
    "hidden": true
   },
   "source": [
    "### NumOfProducts"
   ]
  },
  {
   "cell_type": "markdown",
   "metadata": {
    "hidden": true
   },
   "source": [
    "Iremos filtrar todas as observações com 4 produtos, pois conforme o boxplot os outliers estão nesse patamar."
   ]
  },
  {
   "cell_type": "markdown",
   "metadata": {
    "heading_collapsed": true
   },
   "source": [
    "# Limpeza de Dados"
   ]
  },
  {
   "cell_type": "markdown",
   "metadata": {
    "hidden": true
   },
   "source": [
    " ## Cleaning Outliers."
   ]
  },
  {
   "cell_type": "code",
   "execution_count": 13,
   "metadata": {
    "ExecuteTime": {
     "end_time": "2020-11-21T19:01:52.793898Z",
     "start_time": "2020-11-21T19:01:52.780894Z"
    },
    "hidden": true
   },
   "outputs": [],
   "source": [
    "# Filtrando 'CreditScore' somente o limite inferior.\n",
    "churn = churn.loc[churn['CreditScore']>low, ]\n",
    "\n",
    "# Filtrando 'Age' somente o limite inferior\n",
    "churn = churn.loc[churn['Age']<59, ]\n",
    "\n",
    "# Filtrando 'NumOfProducts'\n",
    "churn = churn.loc[churn['NumOfProducts']<4, ]"
   ]
  },
  {
   "cell_type": "code",
   "execution_count": 14,
   "metadata": {
    "ExecuteTime": {
     "end_time": "2020-11-21T19:01:54.443967Z",
     "start_time": "2020-11-21T19:01:53.594906Z"
    },
    "hidden": true
   },
   "outputs": [
    {
     "data": {
      "image/png": "[encoded data removed]",
      "text/plain": [
       "<Figure size 1296x720 with 8 Axes>"
      ]
     },
     "metadata": {},
     "output_type": "display_data"
    }
   ],
   "source": [
    "# checking the outliers again.\n",
    "# Variáveis\n",
    "variables = churn.select_dtypes(['int64', 'float64']).columns.to_list()\n",
    "\n",
    "# Setando a posicão inicial\n",
    "n = 1\n",
    "\n",
    "plt.figure(figsize=(18, 10))\n",
    "for column in churn[variables].columns:\n",
    "    plt.subplot(4, 4, n)\n",
    "    _ = sns.boxplot(x=column, data=churn)\n",
    "    n += 1\n",
    "\n",
    "plt.subplots_adjust(hspace=0.5)\n",
    "plt.show()"
   ]
  },
  {
   "cell_type": "markdown",
   "metadata": {
    "heading_collapsed": true
   },
   "source": [
    "# Feature Engineering"
   ]
  },
  {
   "cell_type": "markdown",
   "metadata": {
    "hidden": true
   },
   "source": [
    "- Eliminar as variáveis RowNumber, CustomersId, Surname(granularidade alta)\n",
    "- Criar variável com Kmeans usando k=2.\n",
    "- Criar variável EstimatedSalary por location.\n",
    "- Binning as variáveis CreditScore, Age, Tenure, Balance, EstimatedSalary."
   ]
  },
  {
   "cell_type": "code",
   "execution_count": 15,
   "metadata": {
    "ExecuteTime": {
     "end_time": "2020-11-21T19:06:38.775813Z",
     "start_time": "2020-11-21T19:06:38.769533Z"
    },
    "hidden": true
   },
   "outputs": [],
   "source": [
    "# Eliminando RowNumber, CustomersId, Surname(granularidade alta)\n",
    "churn.drop(['RowNumber','CustomerId','Surname'], inplace=True, axis=1)"
   ]
  },
  {
   "cell_type": "code",
   "execution_count": 16,
   "metadata": {
    "ExecuteTime": {
     "end_time": "2020-11-21T19:06:40.399079Z",
     "start_time": "2020-11-21T19:06:39.613645Z"
    },
    "hidden": true
   },
   "outputs": [],
   "source": [
    "# Variável kmeans distancia eucliadiana\n",
    "# Criando copia\n",
    "churn_temp = churn.copy()\n",
    "\n",
    "# Encoder\n",
    "enc = OrdinalEncoder()\n",
    "churn_temp['Gender'] = churn_temp['Gender'].apply(lambda x: 1 if x == 'Female' else 0)\n",
    "churn_temp['Geography'] = enc.fit_transform(np.array(churn_temp['Geography']).reshape(-1,1))\n",
    "\n",
    "# kmeans model\n",
    "model = KMeans(n_clusters=2,init='k-means++')\n",
    "model.fit(churn_temp)\n",
    "churn['kmeans_group'] = model.labels_"
   ]
  },
  {
   "cell_type": "code",
   "execution_count": 17,
   "metadata": {
    "ExecuteTime": {
     "end_time": "2020-11-21T19:06:40.590524Z",
     "start_time": "2020-11-21T19:06:40.569446Z"
    },
    "hidden": true
   },
   "outputs": [],
   "source": [
    "# Criar variável Balance por location\n",
    "\n",
    "group_balance = churn.groupby('Geography').agg({'Balance': ['mean']}).reset_index()\n",
    "group = pd.concat([group_balance['Geography'],group_balance['Balance']['mean']], axis=1)\n",
    "churn = churn.merge(group, left_on='Geography', right_on='Geography', how='inner')"
   ]
  },
  {
   "cell_type": "code",
   "execution_count": 18,
   "metadata": {
    "ExecuteTime": {
     "end_time": "2020-11-21T19:06:41.245056Z",
     "start_time": "2020-11-21T19:06:41.225373Z"
    },
    "hidden": true
   },
   "outputs": [],
   "source": [
    "# Criar variável Balance por location\n",
    "\n",
    "group_balance = churn.groupby('Geography').agg({'EstimatedSalary': ['mean']}).reset_index()\n",
    "group = pd.concat([group_balance['Geography'],  group_balance['EstimatedSalary']['mean']], axis=1)\n",
    "churn = churn.merge(group, left_on='Geography', right_on='Geography', how='inner')"
   ]
  },
  {
   "cell_type": "code",
   "execution_count": 30,
   "metadata": {
    "ExecuteTime": {
     "end_time": "2020-11-21T19:18:31.525904Z",
     "start_time": "2020-11-21T19:18:31.510229Z"
    },
    "hidden": true
   },
   "outputs": [],
   "source": [
    "# Binning\n",
    "# CreditScore\n",
    "churn['CreditScore'] = pd.qcut(churn['CreditScore'],q=10)\n",
    "\n",
    "# Age\n",
    "churn['Age'] = pd.qcut(churn['Age'],q=10)\n",
    "\n",
    "# Tenure\n",
    "churn['Tenure'] = pd.qcut(churn['Tenure'],q=10)\n",
    "\n",
    "# Balance\n",
    "churn['Balance'] = pd.qcut(churn['Balance'],q=[.35, .70, 1])\n",
    "\n",
    "# EstimatedSalary\n",
    "churn['EstimatedSalary'] = pd.qcut(churn['EstimatedSalary'],q=10)"
   ]
  },
  {
   "cell_type": "code",
   "execution_count": 31,
   "metadata": {
    "ExecuteTime": {
     "end_time": "2020-11-21T19:18:36.604192Z",
     "start_time": "2020-11-21T19:18:36.571054Z"
    },
    "hidden": true
   },
   "outputs": [
    {
     "data": {
      "text/html": [
       "<div>\n",
       "<style scoped>\n",
       "    .dataframe tbody tr th:only-of-type {\n",
       "        vertical-align: middle;\n",
       "    }\n",
       "\n",
       "    .dataframe tbody tr th {\n",
       "        vertical-align: top;\n",
       "    }\n",
       "\n",
       "    .dataframe thead th {\n",
       "        text-align: right;\n",
       "    }\n",
       "</style>\n",
       "<table border=\"1\" class=\"dataframe\">\n",
       "  <thead>\n",
       "    <tr style=\"text-align: right;\">\n",
       "      <th></th>\n",
       "      <th>CreditScore</th>\n",
       "      <th>Geography</th>\n",
       "      <th>Gender</th>\n",
       "      <th>Age</th>\n",
       "      <th>Tenure</th>\n",
       "      <th>Balance</th>\n",
       "      <th>NumOfProducts</th>\n",
       "      <th>HasCrCard</th>\n",
       "      <th>IsActiveMember</th>\n",
       "      <th>EstimatedSalary</th>\n",
       "      <th>Exited</th>\n",
       "      <th>kmeans_group</th>\n",
       "      <th>mean_x</th>\n",
       "      <th>mean_y</th>\n",
       "    </tr>\n",
       "  </thead>\n",
       "  <tbody>\n",
       "    <tr>\n",
       "      <th>0</th>\n",
       "      <td>(598.0, 627.0]</td>\n",
       "      <td>France</td>\n",
       "      <td>Female</td>\n",
       "      <td>(41.0, 44.0]</td>\n",
       "      <td>(1.0, 2.0]</td>\n",
       "      <td>(-0.001, 121976.92]</td>\n",
       "      <td>1</td>\n",
       "      <td>1</td>\n",
       "      <td>1</td>\n",
       "      <td>(100350.53, 119969.99]</td>\n",
       "      <td>1</td>\n",
       "      <td>0</td>\n",
       "      <td>62140.22174</td>\n",
       "      <td>100098.696112</td>\n",
       "    </tr>\n",
       "    <tr>\n",
       "      <th>1</th>\n",
       "      <td>(349.999, 521.0]</td>\n",
       "      <td>France</td>\n",
       "      <td>Female</td>\n",
       "      <td>(41.0, 44.0]</td>\n",
       "      <td>(7.0, 8.0]</td>\n",
       "      <td>(121976.92, 250898.09]</td>\n",
       "      <td>3</td>\n",
       "      <td>1</td>\n",
       "      <td>0</td>\n",
       "      <td>(100350.53, 119969.99]</td>\n",
       "      <td>1</td>\n",
       "      <td>1</td>\n",
       "      <td>62140.22174</td>\n",
       "      <td>100098.696112</td>\n",
       "    </tr>\n",
       "    <tr>\n",
       "      <th>2</th>\n",
       "      <td>(678.0, 704.0]</td>\n",
       "      <td>France</td>\n",
       "      <td>Female</td>\n",
       "      <td>(37.0, 39.0]</td>\n",
       "      <td>(-0.001, 1.0]</td>\n",
       "      <td>(-0.001, 121976.92]</td>\n",
       "      <td>2</td>\n",
       "      <td>0</td>\n",
       "      <td>0</td>\n",
       "      <td>(80553.87, 100350.53]</td>\n",
       "      <td>0</td>\n",
       "      <td>0</td>\n",
       "      <td>62140.22174</td>\n",
       "      <td>100098.696112</td>\n",
       "    </tr>\n",
       "    <tr>\n",
       "      <th>3</th>\n",
       "      <td>(777.0, 850.0]</td>\n",
       "      <td>France</td>\n",
       "      <td>Male</td>\n",
       "      <td>(48.0, 58.0]</td>\n",
       "      <td>(6.0, 7.0]</td>\n",
       "      <td>(-0.001, 121976.92]</td>\n",
       "      <td>2</td>\n",
       "      <td>1</td>\n",
       "      <td>1</td>\n",
       "      <td>(11.579, 20181.885]</td>\n",
       "      <td>0</td>\n",
       "      <td>0</td>\n",
       "      <td>62140.22174</td>\n",
       "      <td>100098.696112</td>\n",
       "    </tr>\n",
       "    <tr>\n",
       "      <th>4</th>\n",
       "      <td>(349.999, 521.0]</td>\n",
       "      <td>France</td>\n",
       "      <td>Male</td>\n",
       "      <td>(41.0, 44.0]</td>\n",
       "      <td>(3.0, 4.0]</td>\n",
       "      <td>(121976.92, 250898.09]</td>\n",
       "      <td>2</td>\n",
       "      <td>0</td>\n",
       "      <td>1</td>\n",
       "      <td>(60906.805, 80553.87]</td>\n",
       "      <td>0</td>\n",
       "      <td>1</td>\n",
       "      <td>62140.22174</td>\n",
       "      <td>100098.696112</td>\n",
       "    </tr>\n",
       "  </tbody>\n",
       "</table>\n",
       "</div>"
      ],
      "text/plain": [
       "        CreditScore Geography  Gender           Age         Tenure  \\\n",
       "0    (598.0, 627.0]    France  Female  (41.0, 44.0]     (1.0, 2.0]   \n",
       "1  (349.999, 521.0]    France  Female  (41.0, 44.0]     (7.0, 8.0]   \n",
       "2    (678.0, 704.0]    France  Female  (37.0, 39.0]  (-0.001, 1.0]   \n",
       "3    (777.0, 850.0]    France    Male  (48.0, 58.0]     (6.0, 7.0]   \n",
       "4  (349.999, 521.0]    France    Male  (41.0, 44.0]     (3.0, 4.0]   \n",
       "\n",
       "                  Balance  NumOfProducts HasCrCard IsActiveMember  \\\n",
       "0     (-0.001, 121976.92]              1         1              1   \n",
       "1  (121976.92, 250898.09]              3         1              0   \n",
       "2     (-0.001, 121976.92]              2         0              0   \n",
       "3     (-0.001, 121976.92]              2         1              1   \n",
       "4  (121976.92, 250898.09]              2         0              1   \n",
       "\n",
       "          EstimatedSalary Exited  kmeans_group       mean_x         mean_y  \n",
       "0  (100350.53, 119969.99]      1             0  62140.22174  100098.696112  \n",
       "1  (100350.53, 119969.99]      1             1  62140.22174  100098.696112  \n",
       "2   (80553.87, 100350.53]      0             0  62140.22174  100098.696112  \n",
       "3     (11.579, 20181.885]      0             0  62140.22174  100098.696112  \n",
       "4   (60906.805, 80553.87]      0             1  62140.22174  100098.696112  "
      ]
     },
     "execution_count": 31,
     "metadata": {},
     "output_type": "execute_result"
    }
   ],
   "source": [
    "churn.head()"
   ]
  },
  {
   "cell_type": "markdown",
   "metadata": {
    "heading_collapsed": true
   },
   "source": [
    "# EDA"
   ]
  },
  {
   "cell_type": "code",
   "execution_count": null,
   "metadata": {
    "hidden": true
   },
   "outputs": [],
   "source": []
  },
  {
   "cell_type": "markdown",
   "metadata": {
    "heading_collapsed": true
   },
   "source": [
    "# Teste de Hipoteses"
   ]
  },
  {
   "cell_type": "code",
   "execution_count": null,
   "metadata": {
    "hidden": true
   },
   "outputs": [],
   "source": []
  },
  {
   "cell_type": "markdown",
   "metadata": {
    "heading_collapsed": true
   },
   "source": [
    "# Data Preparation"
   ]
  },
  {
   "cell_type": "code",
   "execution_count": null,
   "metadata": {
    "hidden": true
   },
   "outputs": [],
   "source": []
  }
 ],
 "metadata": {
  "kernelspec": {
   "display_name": "Python (pa003-env)",
   "language": "python",
   "name": "pa003-env"
  },
  "language_info": {
   "codemirror_mode": {
    "name": "ipython",
    "version": 3
   },
   "file_extension": ".py",
   "mimetype": "text/x-python",
   "name": "python",
   "nbconvert_exporter": "python",
   "pygments_lexer": "ipython3",
   "version": "3.9.0"
  },
  "toc": {
   "base_numbering": 1,
   "nav_menu": {},
   "number_sections": true,
   "sideBar": true,
   "skip_h1_title": false,
   "title_cell": "Table of Contents",
   "title_sidebar": "Contents",
   "toc_cell": false,
   "toc_position": {},
   "toc_section_display": true,
   "toc_window_display": false
  },
  "varInspector": {
   "cols": {
    "lenName": 16,
    "lenType": 16,
    "lenVar": 40
   },
   "kernels_config": {
    "python": {
     "delete_cmd_postfix": "",
     "delete_cmd_prefix": "del ",
     "library": "var_list.py",
     "varRefreshCmd": "print(var_dic_list())"
    },
    "r": {
     "delete_cmd_postfix": ") ",
     "delete_cmd_prefix": "rm(",
     "library": "var_list.r",
     "varRefreshCmd": "cat(var_dic_list()) "
    }
   },
   "types_to_exclude": [
    "module",
    "function",
    "builtin_function_or_method",
    "instance",
    "_Feature"
   ],
   "window_display": false
  }
 },
 "nbformat": 4,
 "nbformat_minor": 4
}
