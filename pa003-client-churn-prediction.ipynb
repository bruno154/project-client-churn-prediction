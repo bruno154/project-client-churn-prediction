{
 "cells": [
  {
   "cell_type": "markdown",
   "metadata": {
    "ExecuteTime": {
     "end_time": "2020-11-18T21:55:55.370734Z",
     "start_time": "2020-11-18T21:55:55.367552Z"
    },
    "collapsed": "true"
   },
   "source": [
    "# 0.0 Business Context"
   ]
  },
  {
   "cell_type": "markdown",
   "metadata": {},
   "source": [
    "**Desafio**\n",
    "\n",
    "Criar um modelo de alta performance na identificação de clientes em churn.\n",
    "\n",
    "Sobre a Empresa:\n",
    "A TopBottonBank é um novo banco com atuação na europa.\n",
    " \n",
    "**Entregável:**\n",
    "Ao final da sua consultoria, você precisa entregar ao CEO da TopBottomBank um modelo em produção, que receberá uma base de clientes via API e desenvolverá essa base “scorada”, ou seja, um coluna à mais com a probabilidade de cada cliente entrar em churn.\n",
    "\n",
    "Perguntas a serem respondidas no report final:\n",
    "1-Qual a taxa de Churn atual da empresa?\n",
    "2-Como a taxa de Churn varia por mês?\n",
    "3-Qual a Performance do modelo em classificar os clientes como churns?\n",
    "4-Qual o Faturamento da empresa, se ela impedir que os clientes de entrar em Churn através do seu modelo?\n",
    "5-Qual o valor de um cupom de desconto você daria para o cliente, a fim de evitar churn? E qual o custo total desse incentivo para a empresa?\n",
    "\n",
    "**Index:**\n",
    " - 0.0 Problema de Negócio\n",
    " - 0.1 Importações de bibliotecas\n",
    " - 1.0 Coleta de Dados\n",
    " - 2.0 Descrição dos Dados\n",
    " - 3.0 Limpeza de dados\n",
    " - 4.0 Feature Engineering\n",
    " - 5.0 EDA\n",
    " - 6.0 Teste de Hipóteses\n",
    " - 7.0 Split de Dados\n",
    " - 8.0 Data Preparation\n",
    " - 9.0 Feature Selection\n",
    " - 10.0 Model Selection\n",
    " - 11.0 Tunning/Treinamento do modelo\n",
    " - 12.0 Interpretação dos Modelos\n",
    " - 13.0 API\n",
    " \n",
    "**Estrátegia:**\n",
    "\n",
    "1.0 Coleta de Dados:\n",
    "Coletar os dados utilizando pd.read_csv().\n",
    "\n",
    "2.0 Descrição dos Dados:\n",
    "- Descrever as seguintes infos por feature: percentual de missing, valores únicos,     percentual de valores únicos, tipos de dados, skew, kurtosis.\n",
    "- Descrever Gender vs Exited.\n",
    "- Descrever Geography vs Exited.\n",
    "- Descrever HasCrCard vs Exited \n",
    "- Descrever IsActiveMember vs Exited\n",
    "- Descrever a variável 'type' com relação ao target.\n",
    "- Descrever outras variáveis conforme for pertinente.\n",
    "- Investigar a presença de Outliers.\n",
    "\n",
    "3.0 Limpeza de dados:\n",
    "- Eliminar os outliers utilizando a tecnica IQR.\n",
    "\n",
    "4.0 Feature Engineering:\n",
    "- Eliminar as variáveis RowNumber, CustomersId, Surname(granularidade alta) por apresentarem pouco ganho de informação para a modelagem do nosso problema.\n",
    "- Criar variável com Kmeans usando k=2. O valor de k é devido a estarmos trabalhando com um problema binário.\n",
    "- Criar variável EstimatedSalary por location. Distribuição da renda podem nos ajudar na modelagem do problema.\n",
    "- Binning as variáveis CreditScore, Age, Tenure, Balance, EstimatedSalary. Realizando o Binning dessas variáveis diminuimos a granularidade das mesmas o que irá facilitar a modelagem do problema futuramente.\n",
    "- Criar a variável LTV - Life Time Value, através da divisão de Balance por Tenure.\n",
    "\n",
    "5.0 EDA:\n",
    " - Realizar análise Univariada.\n",
    " - Realizar análise Multivariada.\n",
    "\n",
    "6.0 Teste de Hipoteses:\n",
    " - H1 - O 'Balance' é maior acima de 30 anos de idade.\n",
    " - H2 - O 'Balance' é maior entre os clientes homens que mulheres.\n",
    " - H3 - O 'EstimatedSalary' é maior entre clientes homens que mulheres.\n",
    " - H4 - O 'EstimatedSalary' é maior acima de 30 anos de idade.\n",
    " - H5 - O churn é maior entre os menbros inativos que os ativos.\n",
    "\n",
    "7.0 Split de Dados:\n",
    "- Separar aleatoriamente 10% dos dados para dados de treino.\n",
    "\n",
    "8.0 Data Preparation:\n",
    "- Para a preparação dos dados iremos utilizar Ordinal Encoder sobre as variáveis categóricas and RobustScaler sobre as variáveis númericas.\n",
    "- Iremos também balanciar os nosso dados utilizando uma tecnica hibrida entre over e under-sampling chamada SMOTETomeklink. A mesma consiste no under-sampling dos dados na fronteira das classes com o over-sampling dos dados mais afastados, o que gera uma maior separação entre as classes por essa razão a escolha por essa tecnica. \n",
    "\n",
    "9.0 Feature Selection:\n",
    " - A seleção de Features aplicaremos o algoritmo Boruta-Shap, que é um seletor do tipo wrapper que utilizara um modelo RandomForest() e shap values para selecionar as melhores variáveis.\n",
    " \n",
    "10.0 Model Selection:\n",
    " - O modelo será selecionado conforme o recall, pois estamos trabalhando em problema binário cujo a classe positiva é um evento raro (churn) outra metrica que usaremos será a f1 que consiste na média harmonica entre o recall e a precision. A f1 nos indicara como esta o equilibrio do modelo em prever corretamente a tanto a classe positiva quanto a negativa.\n",
    "\n",
    "11.0 Tunning/Treinamento do modelo:\n",
    "- Será realiazado o tunning e o tranamento do ou dos modelos selecionados na etapa anterior.\n",
    "\n",
    "12.0 Interpretação dos Modelos:\n",
    "- Iremos interpretar os modelo utilizando matriz de confusão -com o objetivo de entender onde o modelo está errando-, learning_curves-para entendermos como está ocorrendo a convergência-, feature_importance -para entermos quais variaveis estão sendo mais relevantes na reslução do problema.\n",
    "\n",
    "13.0 API:\n",
    "- Servir o modelo através de uma API.\n",
    "\n",
    "\n",
    "**Resultados**\n",
    "\n"
   ]
  },
  {
   "cell_type": "markdown",
   "metadata": {},
   "source": [
    "# 0.1 Imports"
   ]
  },
  {
   "cell_type": "code",
   "execution_count": 1,
   "metadata": {
    "ExecuteTime": {
     "end_time": "2020-11-28T14:20:17.129003Z",
     "start_time": "2020-11-28T14:20:17.118634Z"
    }
   },
   "outputs": [],
   "source": [
    "import pickle\n",
    "import pandas as pd\n",
    "import numpy as np\n",
    "import requests\n",
    "import seaborn as sns\n",
    "from sklearn.svm import SVC\n",
    "import matplotlib.pyplot as plt\n",
    "from scipy.stats import pointbiserialr\n",
    "from imblearn.pipeline import Pipeline\n",
    "from imblearn.combine import SMOTETomek\n",
    "from scipy.stats import chi2_contingency\n",
    "from sklearn.compose import ColumnTransformer\n",
    "from sklearn.model_selection import cross_val_score, learning_curve, GridSearchCV \n",
    "from sklearn.preprocessing import OrdinalEncoder, RobustScaler\n",
    "from sklearn.model_selection import train_test_split, StratifiedKFold, RandomizedSearchCV\n",
    "\n",
    "# Models\n",
    "import lightgbm as lgb\n",
    "from BorutaShap import BorutaShap\n",
    "from xgboost import XGBClassifier\n",
    "from sklearn.cluster import KMeans\n",
    "from sklearn.tree import DecisionTreeClassifier\n",
    "from sklearn.neighbors import KNeighborsClassifier\n",
    "from sklearn.linear_model import LogisticRegression\n",
    "from sklearn.ensemble import RandomForestClassifier\n",
    "\n",
    "# Hipo Test\n",
    "from scipy import stats\n",
    "from scipy.stats import f_oneway\n",
    "from scipy.stats import ttest_ind\n",
    "\n",
    "# Evaluation\n",
    "from sklearn.metrics import classification_report, accuracy_score, cohen_kappa_score, precision_score, f1_score, recall_score"
   ]
  },
  {
   "cell_type": "markdown",
   "metadata": {
    "collapsed": "true",
    "heading_collapsed": true
   },
   "source": [
    "## Helper Functions"
   ]
  },
  {
   "cell_type": "code",
   "execution_count": 2,
   "metadata": {
    "ExecuteTime": {
     "end_time": "2020-11-28T13:08:53.076668Z",
     "start_time": "2020-11-28T13:08:53.059513Z"
    },
    "hidden": true
   },
   "outputs": [],
   "source": [
    "def multi_boxplots(df, variables: list) -> None:\n",
    "\n",
    "    \"\"\"\n",
    "    Function to check for outliers visually through a boxplot\n",
    "\n",
    "    data: DataFrame\n",
    "\n",
    "    variable: list of numerical variables\n",
    "    \"\"\"\n",
    "\n",
    "    # set of initial plot posistion\n",
    "    n = 1\n",
    "\n",
    "    plt.figure(figsize=(18, 10))\n",
    "    for column in df[variables].columns:\n",
    "        plt.subplot(3, 3, n)\n",
    "        _ = sns.boxplot(x=column, data=df)\n",
    "        n += 1\n",
    "\n",
    "    plt.subplots_adjust(hspace=0.3)\n",
    "\n",
    "    plt.show()\n",
    "    \n",
    "def Myheat_map(dataset, variaveis):\n",
    "    \n",
    "    \"\"\"\n",
    "    \n",
    "    \n",
    "    \"\"\"\n",
    "\n",
    "    df_corr = dataset[variaveis].corr()\n",
    "\n",
    "    fig, ax = plt.subplots(figsize=(16, 10))\n",
    "    # mask\n",
    "    mask = np.triu(np.ones_like(df_corr, dtype=np.bool))\n",
    "    # adjust mask and df\n",
    "    mask = mask[1:, :-1]\n",
    "    corr = df_corr.iloc[1:,:-1].copy()\n",
    "    # color map\n",
    "    cmap = sns.diverging_palette(0, 230, 90, 60, as_cmap=True)\n",
    "\n",
    "    # plot heatmap\n",
    "    sns.heatmap(corr, mask=mask, annot=True, fmt=\".2f\",\n",
    "                   linewidths=5, cmap=cmap, vmin=-1, vmax=1, \n",
    "                   cbar_kws={\"shrink\": .8}, square=True)\n",
    "    yticks = [i.upper() for i in corr.index]\n",
    "    xticks = [i.upper() for i in corr.columns]\n",
    "    plt.yticks(plt.yticks()[0], labels=yticks, rotation=0)\n",
    "    plt.xticks(plt.xticks()[0], labels=xticks, rotation=20)\n",
    "\n",
    "    # title\n",
    "    title = 'CORRELATION MATRIX\\n'\n",
    "    plt.title(title, loc='left', fontsize=18)\n",
    "    plt.show()\n",
    "\n",
    "def cramer_v(var_x, var_y):\n",
    "    \"\"\"\n",
    "    Function to calculate the Cramers v correlation.\n",
    "\n",
    "    \"\"\"\n",
    "    # builds contigency matrix (or confusion matrix)\n",
    "    confusion_matrix_v = pd.crosstab(var_x, var_y).values\n",
    "\n",
    "    # gets the sum of all values in the matrix\n",
    "    n = confusion_matrix_v.sum()\n",
    "\n",
    "    # gets the rows, cols\n",
    "    r, k = confusion_matrix_v.shape\n",
    "\n",
    "    # gets the chi-squared\n",
    "    chi2 = chi2_contingency(confusion_matrix_v)[0]\n",
    "\n",
    "    # makes the bias correction\n",
    "    chi2corr = max(0, chi2 - (k-1) * (r-1) / (n-1))\n",
    "    kcorr = k - (k-1) ** 2 / (n-1)\n",
    "    rcorr = r - (r-1) ** 2 / (n-1)\n",
    "\n",
    "    # returns cramér V\n",
    "    return np.sqrt((chi2corr/n) / min(kcorr-1, rcorr-1))\n",
    "\n",
    "def hipo_test(*samples):\n",
    "\n",
    "    samples = samples\n",
    "\n",
    "    try:\n",
    "        if len(samples) == 2:\n",
    "            stat, p = ttest_ind(*samples)\n",
    "        elif len(samples) > 2:\n",
    "            stat, p = f_oneway(*samples)\n",
    "    except:\n",
    "        raise Exception(\"Deve ser fornecido pelo menos duas samples!!!\")\n",
    "\n",
    "    if p < 0.05:\n",
    "        print(f'O valor de p é: {p}')\n",
    "        print('Provável haver diferença')\n",
    "    else:\n",
    "        print(f'O valor de p é: {p}')\n",
    "        print('Provável que não haja diferença')\n",
    "\n",
    "    return stat, p\n",
    "\n",
    "def learning_curves(estimator, features, target, train_sizes, cv):\n",
    "    \n",
    "    \"\"\"\n",
    "    \n",
    "    \"\"\"\n",
    "\n",
    "    train_sizes, train_scores, validation_scores = learning_curve(\n",
    "    estimator, features, target, train_sizes =\n",
    "    train_sizes,\n",
    "    cv = cv, scoring = 'recall')\n",
    "    train_scores_mean = train_scores.mean(axis = 1)\n",
    "    validation_scores_mean = validation_scores.mean(axis = 1)\n",
    "\n",
    "    plt.plot(train_sizes, train_scores_mean, label = 'Training error')\n",
    "    plt.plot(train_sizes, validation_scores_mean, label = 'Validation error')\n",
    "\n",
    "    plt.ylabel('Recall', fontsize = 12)\n",
    "    plt.xlabel('Training set size', fontsize = 12)\n",
    "    title = 'Learning curves for a ' + str(estimator).split('(')[0] + ' model'\n",
    "    plt.title(title, fontsize = 14, y = 1.03)\n",
    "    plt.legend()\n",
    "\n",
    "def model_selection(X,y):\n",
    "    \n",
    "    \"\"\"\n",
    "    \n",
    "    \"\"\"\n",
    "    \n",
    "    # Modelos\n",
    "    models = [('lr',LogisticRegression(),1),\n",
    "              ('svm',SVC(),2),\n",
    "              ('dt',DecisionTreeClassifier(),3),\n",
    "              ('rf', RandomForestClassifier(),4),\n",
    "              ('lgb',lgb.LGBMClassifier(),5),\n",
    "              ('xgboost', XGBClassifier(),6)]\n",
    "\n",
    "    # Resultados\n",
    "    resultados = {'LR': [],\n",
    "                  'SVM': [],\n",
    "                  'DecisionTree': [],\n",
    "                  'RandomForestClassifier': [],\n",
    "                  'LGBM': [],\n",
    "                  'XGBOOST': []}\n",
    "\n",
    "    # Testando algoritmos\n",
    "    for name, model,_ in models:\n",
    "        \n",
    "        # cross-validação\n",
    "        cv = StratifiedKFold(n_splits=5, shuffle=True, random_state=1)\n",
    "        \n",
    "        # resultado\n",
    "        resultado = cross_val_score(estimator=model,\n",
    "                                    X=X,\n",
    "                                    y=y,\n",
    "                                    scoring='recall',\n",
    "                                    cv=cv,\n",
    "                                    n_jobs=-1)\n",
    "\n",
    "        if name == 'lr':\n",
    "            resultados['LR'].append(np.mean(resultado))\n",
    "        elif name == 'knn':\n",
    "            resultados['KNN'].append(np.mean(resultado)) \n",
    "        elif name == 'svm':\n",
    "            resultados['SVM'].append(np.mean(resultado))\n",
    "        elif name == 'dt':\n",
    "            resultados['DecisionTree'].append(np.mean(resultado))\n",
    "        elif name == 'rf':\n",
    "            resultados['RandomForestClassifier'].append(np.mean(resultado))\n",
    "        elif name == 'lgb':\n",
    "            resultados['LGBM'].append(np.mean(resultado))\n",
    "        elif name == 'xgboost':\n",
    "            resultados['XGBOOST'].append(np.mean(resultado))\n",
    "        \n",
    "    # train_sizes\n",
    "    train_sizes = list(np.arange(1, 10832, 2000))\n",
    "\n",
    "    # Croos-Validação\n",
    "    cv = StratifiedKFold(n_splits=5, shuffle=True, random_state=1)\n",
    "\n",
    "    # Plot das curvas de aprendizagem\n",
    "    plt.figure(figsize = (20,15))\n",
    "    for _, model, i in models:\n",
    "        plt.subplot(2,3,i)\n",
    "        learning_curves(estimator=model, features=Xtrain_smt, target=ytrain_smt, train_sizes=train_sizes, cv=5)\n",
    "        plt.subplots_adjust(hspace=0.3)\n",
    "\n",
    "    # Painel\n",
    "    resultados_df = pd.DataFrame(resultados)\n",
    "    return resultados_df"
   ]
  },
  {
   "cell_type": "markdown",
   "metadata": {
    "collapsed": "true"
   },
   "source": [
    "# 1.0 Data Colection"
   ]
  },
  {
   "cell_type": "code",
   "execution_count": 3,
   "metadata": {
    "ExecuteTime": {
     "end_time": "2020-11-28T13:08:57.652174Z",
     "start_time": "2020-11-28T13:08:57.620058Z"
    }
   },
   "outputs": [
    {
     "data": {
      "text/html": [
       "<div>\n",
       "<style scoped>\n",
       "    .dataframe tbody tr th:only-of-type {\n",
       "        vertical-align: middle;\n",
       "    }\n",
       "\n",
       "    .dataframe tbody tr th {\n",
       "        vertical-align: top;\n",
       "    }\n",
       "\n",
       "    .dataframe thead th {\n",
       "        text-align: right;\n",
       "    }\n",
       "</style>\n",
       "<table border=\"1\" class=\"dataframe\">\n",
       "  <thead>\n",
       "    <tr style=\"text-align: right;\">\n",
       "      <th></th>\n",
       "      <th>RowNumber</th>\n",
       "      <th>CustomerId</th>\n",
       "      <th>Surname</th>\n",
       "      <th>CreditScore</th>\n",
       "      <th>Geography</th>\n",
       "      <th>Gender</th>\n",
       "      <th>Age</th>\n",
       "      <th>Tenure</th>\n",
       "      <th>Balance</th>\n",
       "      <th>NumOfProducts</th>\n",
       "      <th>HasCrCard</th>\n",
       "      <th>IsActiveMember</th>\n",
       "      <th>EstimatedSalary</th>\n",
       "      <th>Exited</th>\n",
       "    </tr>\n",
       "  </thead>\n",
       "  <tbody>\n",
       "    <tr>\n",
       "      <th>0</th>\n",
       "      <td>1</td>\n",
       "      <td>15634602</td>\n",
       "      <td>Hargrave</td>\n",
       "      <td>619</td>\n",
       "      <td>France</td>\n",
       "      <td>Female</td>\n",
       "      <td>42</td>\n",
       "      <td>2</td>\n",
       "      <td>0.00</td>\n",
       "      <td>1</td>\n",
       "      <td>1</td>\n",
       "      <td>1</td>\n",
       "      <td>101348.88</td>\n",
       "      <td>1</td>\n",
       "    </tr>\n",
       "    <tr>\n",
       "      <th>1</th>\n",
       "      <td>2</td>\n",
       "      <td>15647311</td>\n",
       "      <td>Hill</td>\n",
       "      <td>608</td>\n",
       "      <td>Spain</td>\n",
       "      <td>Female</td>\n",
       "      <td>41</td>\n",
       "      <td>1</td>\n",
       "      <td>83807.86</td>\n",
       "      <td>1</td>\n",
       "      <td>0</td>\n",
       "      <td>1</td>\n",
       "      <td>112542.58</td>\n",
       "      <td>0</td>\n",
       "    </tr>\n",
       "    <tr>\n",
       "      <th>2</th>\n",
       "      <td>3</td>\n",
       "      <td>15619304</td>\n",
       "      <td>Onio</td>\n",
       "      <td>502</td>\n",
       "      <td>France</td>\n",
       "      <td>Female</td>\n",
       "      <td>42</td>\n",
       "      <td>8</td>\n",
       "      <td>159660.80</td>\n",
       "      <td>3</td>\n",
       "      <td>1</td>\n",
       "      <td>0</td>\n",
       "      <td>113931.57</td>\n",
       "      <td>1</td>\n",
       "    </tr>\n",
       "    <tr>\n",
       "      <th>3</th>\n",
       "      <td>4</td>\n",
       "      <td>15701354</td>\n",
       "      <td>Boni</td>\n",
       "      <td>699</td>\n",
       "      <td>France</td>\n",
       "      <td>Female</td>\n",
       "      <td>39</td>\n",
       "      <td>1</td>\n",
       "      <td>0.00</td>\n",
       "      <td>2</td>\n",
       "      <td>0</td>\n",
       "      <td>0</td>\n",
       "      <td>93826.63</td>\n",
       "      <td>0</td>\n",
       "    </tr>\n",
       "    <tr>\n",
       "      <th>4</th>\n",
       "      <td>5</td>\n",
       "      <td>15737888</td>\n",
       "      <td>Mitchell</td>\n",
       "      <td>850</td>\n",
       "      <td>Spain</td>\n",
       "      <td>Female</td>\n",
       "      <td>43</td>\n",
       "      <td>2</td>\n",
       "      <td>125510.82</td>\n",
       "      <td>1</td>\n",
       "      <td>1</td>\n",
       "      <td>1</td>\n",
       "      <td>79084.10</td>\n",
       "      <td>0</td>\n",
       "    </tr>\n",
       "  </tbody>\n",
       "</table>\n",
       "</div>"
      ],
      "text/plain": [
       "   RowNumber  CustomerId   Surname  CreditScore Geography  Gender  Age  \\\n",
       "0          1    15634602  Hargrave          619    France  Female   42   \n",
       "1          2    15647311      Hill          608     Spain  Female   41   \n",
       "2          3    15619304      Onio          502    France  Female   42   \n",
       "3          4    15701354      Boni          699    France  Female   39   \n",
       "4          5    15737888  Mitchell          850     Spain  Female   43   \n",
       "\n",
       "   Tenure    Balance  NumOfProducts  HasCrCard  IsActiveMember  \\\n",
       "0       2       0.00              1          1               1   \n",
       "1       1   83807.86              1          0               1   \n",
       "2       8  159660.80              3          1               0   \n",
       "3       1       0.00              2          0               0   \n",
       "4       2  125510.82              1          1               1   \n",
       "\n",
       "   EstimatedSalary  Exited  \n",
       "0        101348.88       1  \n",
       "1        112542.58       0  \n",
       "2        113931.57       1  \n",
       "3         93826.63       0  \n",
       "4         79084.10       0  "
      ]
     },
     "execution_count": 3,
     "metadata": {},
     "output_type": "execute_result"
    }
   ],
   "source": [
    "churn = pd.read_csv('data/churn.csv')\n",
    "churn.head()"
   ]
  },
  {
   "cell_type": "markdown",
   "metadata": {
    "ExecuteTime": {
     "end_time": "2020-11-19T22:13:32.782942Z",
     "start_time": "2020-11-19T22:13:32.779777Z"
    },
    "collapsed": "true",
    "heading_collapsed": true
   },
   "source": [
    "# 2.0 Data Description"
   ]
  },
  {
   "cell_type": "markdown",
   "metadata": {
    "hidden": true
   },
   "source": [
    "**Book de Variáveis:**\n",
    "\n",
    "Age: Idade do cliente.\n",
    "\n",
    "Balance: Quantidade de dinheiro na\n",
    "\n",
    "CreditScore: Score de crédito do cliente.\n",
    "\n",
    "CustomerId: Identificador unico do cliente.\n",
    "\n",
    "EstimatedSalary: Salário estimado do cliente.\n",
    "\n",
    "Exited: Variável target se ocorreu ou não churn do cliente.\n",
    "\n",
    "Gender: Genêro do cliente.\n",
    "\n",
    "Geography: Localizaçao do cliente.\n",
    "\n",
    "HasCrCard: Flag se o cliente possui um cartão de crédito ou não\n",
    "\n",
    "IsActiveMember: Flag se o cliente é ativo ou não.\n",
    "\n",
    "RowNumber: Número da linha no dataset.\n",
    "\n",
    "Surname: Sobrenome do cliente.\n",
    "\n",
    "Ternure: Quantidade em anos que o cliente ainda está no banco ( no-churn ) e ela também diz quanto tempo o cliente ficou no banco até o churn."
   ]
  },
  {
   "cell_type": "code",
   "execution_count": null,
   "metadata": {
    "ExecuteTime": {
     "end_time": "2020-11-28T13:09:00.819799Z",
     "start_time": "2020-11-28T13:09:00.749470Z"
    },
    "hidden": true
   },
   "outputs": [],
   "source": [
    "# Describe\n",
    "pd.DataFrame({'missing' :churn.isna().mean(),\n",
    "              'uniques' :churn.nunique(),\n",
    "              'dtypes'  :churn.dtypes,\n",
    "              'min'     :churn.min(),\n",
    "              'mean'    :churn.mean(),\n",
    "              'median'  :churn.median(),\n",
    "              'max'     :churn.max(),\n",
    "              'skew'    :churn.skew(),\n",
    "              'kurtosis':churn.kurtosis()})"
   ]
  },
  {
   "cell_type": "markdown",
   "metadata": {
    "hidden": true
   },
   "source": [
    " - Temos dados de diferentes escalas\n",
    " - 'Customerid' e 'RowNumber' é um idientificador único podemos eliminar ou utiliza-lo como index do dataframe.\n",
    " - As variáveis 'HasCrCard' 'IsActiveMember' são categoricas ordinais iremos alterar o seu tipo para category."
   ]
  },
  {
   "cell_type": "markdown",
   "metadata": {
    "hidden": true
   },
   "source": [
    "## Target - Exited"
   ]
  },
  {
   "cell_type": "code",
   "execution_count": null,
   "metadata": {
    "ExecuteTime": {
     "end_time": "2020-11-28T13:09:01.668775Z",
     "start_time": "2020-11-28T13:09:01.541130Z"
    },
    "hidden": true
   },
   "outputs": [],
   "source": [
    "# Checkando o balanciamento da variável Target\n",
    "ax = sns.countplot(x='Exited', hue=None, data=churn)\n",
    "ax.figure.set_size_inches(10, 6)\n",
    "ax.set_title('Feature Distribution', fontsize=18, loc='center')\n",
    "ax.set_xlabel('Exited', fontsize=14)\n",
    "ax.set_ylabel('Count', fontsize=14)\n",
    "ax=ax"
   ]
  },
  {
   "cell_type": "markdown",
   "metadata": {
    "hidden": true
   },
   "source": [
    "- Podemos observar que as classes da variável Target esta desbalanciada."
   ]
  },
  {
   "cell_type": "markdown",
   "metadata": {
    "hidden": true
   },
   "source": [
    "## Descrever Gender vs Exited"
   ]
  },
  {
   "cell_type": "code",
   "execution_count": null,
   "metadata": {
    "ExecuteTime": {
     "end_time": "2020-11-28T13:09:02.288009Z",
     "start_time": "2020-11-28T13:09:02.153232Z"
    },
    "hidden": true
   },
   "outputs": [],
   "source": [
    "ax = sns.countplot(x='Gender', hue='Exited', data=churn)\n",
    "ax.figure.set_size_inches(10, 6)\n",
    "ax.set_title('Feature Distribution', fontsize=18, loc='center')\n",
    "ax.set_xlabel('Gender', fontsize=14)\n",
    "ax.set_ylabel('Count', fontsize=14)\n",
    "ax=ax"
   ]
  },
  {
   "cell_type": "markdown",
   "metadata": {
    "hidden": true
   },
   "source": [
    " - Aparentemente não existe uma concentração do evento de 'Churn' conforme o genero."
   ]
  },
  {
   "cell_type": "markdown",
   "metadata": {
    "hidden": true
   },
   "source": [
    "## Descrever Geography vs Exited"
   ]
  },
  {
   "cell_type": "code",
   "execution_count": null,
   "metadata": {
    "ExecuteTime": {
     "end_time": "2020-11-28T13:09:02.904934Z",
     "start_time": "2020-11-28T13:09:02.747687Z"
    },
    "hidden": true
   },
   "outputs": [],
   "source": [
    "ax = sns.countplot(x='Geography', hue='Exited', data=churn)\n",
    "ax.figure.set_size_inches(10, 6)\n",
    "ax.set_title('Feature Distribution', fontsize=18, loc='center')\n",
    "ax.set_xlabel('Geography', fontsize=14)\n",
    "ax.set_ylabel('Count', fontsize=14)\n",
    "ax=ax"
   ]
  },
  {
   "cell_type": "code",
   "execution_count": null,
   "metadata": {
    "ExecuteTime": {
     "end_time": "2020-11-28T13:09:03.515220Z",
     "start_time": "2020-11-28T13:09:03.502645Z"
    },
    "hidden": true
   },
   "outputs": [],
   "source": [
    "# Percentual de observações por valores Geography\n",
    "churn.groupby('Geography').count()['RowNumber'].apply(lambda x: (x/churn.shape[0])*100)"
   ]
  },
  {
   "cell_type": "markdown",
   "metadata": {
    "hidden": true
   },
   "source": [
    "- Notamos que proporcionalmente parece ocorrer um maior churn de clientes da Alemanha. A mesma possui comente 25% das observações porém possui mais eventos churn que as demais categorias."
   ]
  },
  {
   "cell_type": "markdown",
   "metadata": {
    "hidden": true
   },
   "source": [
    "## Descrever HasCrCard vs Exited"
   ]
  },
  {
   "cell_type": "code",
   "execution_count": null,
   "metadata": {
    "ExecuteTime": {
     "end_time": "2020-11-28T13:09:06.326162Z",
     "start_time": "2020-11-28T13:09:06.196368Z"
    },
    "hidden": true
   },
   "outputs": [],
   "source": [
    "ax = sns.countplot(x='HasCrCard', hue='Exited', data=churn)\n",
    "ax.figure.set_size_inches(10, 6)\n",
    "ax.set_title('Feature Distribution', fontsize=18, loc='center')\n",
    "ax.set_xlabel('HasCrCard', fontsize=14)\n",
    "ax.set_ylabel('Count', fontsize=14)\n",
    "ax=ax"
   ]
  },
  {
   "cell_type": "code",
   "execution_count": null,
   "metadata": {
    "ExecuteTime": {
     "end_time": "2020-11-28T13:09:06.442201Z",
     "start_time": "2020-11-28T13:09:06.431559Z"
    },
    "hidden": true
   },
   "outputs": [],
   "source": [
    "# Percentual de observações por valores HasCrCard\n",
    "churn.groupby('HasCrCard').count()['RowNumber'].apply(lambda x: (x/churn.shape[0])*100)"
   ]
  },
  {
   "cell_type": "markdown",
   "metadata": {
    "ExecuteTime": {
     "end_time": "2020-11-19T23:40:48.865585Z",
     "start_time": "2020-11-19T23:40:48.859144Z"
    },
    "hidden": true
   },
   "source": [
    "- Devido a maior concentração de obseravções com cartão de credito temos também maior numero de eventos de churn."
   ]
  },
  {
   "cell_type": "markdown",
   "metadata": {
    "hidden": true
   },
   "source": [
    "## Descrever IsActiveMember vs Exited"
   ]
  },
  {
   "cell_type": "code",
   "execution_count": null,
   "metadata": {
    "ExecuteTime": {
     "end_time": "2020-11-28T13:09:09.156319Z",
     "start_time": "2020-11-28T13:09:09.030295Z"
    },
    "hidden": true
   },
   "outputs": [],
   "source": [
    "ax = sns.countplot(x='IsActiveMember', hue='Exited', data=churn)\n",
    "ax.figure.set_size_inches(10, 6)\n",
    "ax.set_title('Feature Distribution', fontsize=18, loc='center')\n",
    "ax.set_xlabel('IsActiveMember', fontsize=14)\n",
    "ax.set_ylabel('Count', fontsize=14)\n",
    "ax=ax"
   ]
  },
  {
   "cell_type": "code",
   "execution_count": null,
   "metadata": {
    "ExecuteTime": {
     "end_time": "2020-11-28T13:09:09.279271Z",
     "start_time": "2020-11-28T13:09:09.268890Z"
    },
    "hidden": true
   },
   "outputs": [],
   "source": [
    "# Percentual de observações por valores HasCrCard\n",
    "churn.groupby('IsActiveMember').count()['RowNumber'].apply(lambda x: (x/churn.shape[0])*100)"
   ]
  },
  {
   "cell_type": "markdown",
   "metadata": {
    "ExecuteTime": {
     "end_time": "2020-11-19T23:38:49.919536Z",
     "start_time": "2020-11-19T23:38:49.914461Z"
    },
    "hidden": true
   },
   "source": [
    " - Em um primeiro momento notamos que a inatividade leva a um maior churn. Os eventos estão distribuídos porém com maior quantidade de eventos de churn na categoria de inatividade."
   ]
  },
  {
   "cell_type": "markdown",
   "metadata": {
    "ExecuteTime": {
     "end_time": "2020-11-20T00:11:51.737992Z",
     "start_time": "2020-11-20T00:11:51.734725Z"
    },
    "hidden": true
   },
   "source": [
    "## Alterando os tipos das variáveis 'HasCrCard', 'IsActiveMember', Exited"
   ]
  },
  {
   "cell_type": "code",
   "execution_count": null,
   "metadata": {
    "ExecuteTime": {
     "end_time": "2020-11-28T13:09:11.652693Z",
     "start_time": "2020-11-28T13:09:11.636393Z"
    },
    "hidden": true
   },
   "outputs": [],
   "source": [
    "# Alterando o tipo de dados para category\n",
    "colunas = ['HasCrCard','IsActiveMember', 'Exited', 'Surname', 'Geography','Gender']\n",
    "\n",
    "for col in colunas:\n",
    "    churn[col] = churn[col].astype('category')"
   ]
  },
  {
   "cell_type": "code",
   "execution_count": null,
   "metadata": {
    "ExecuteTime": {
     "end_time": "2020-11-28T13:09:11.853124Z",
     "start_time": "2020-11-28T13:09:11.847445Z"
    },
    "hidden": true
   },
   "outputs": [],
   "source": [
    "# checkando os tipos\n",
    "churn.dtypes"
   ]
  },
  {
   "cell_type": "markdown",
   "metadata": {
    "hidden": true
   },
   "source": [
    "## Checkando a Presença de Outliers"
   ]
  },
  {
   "cell_type": "code",
   "execution_count": null,
   "metadata": {
    "ExecuteTime": {
     "end_time": "2020-11-28T13:09:15.406998Z",
     "start_time": "2020-11-28T13:09:14.770157Z"
    },
    "hidden": true
   },
   "outputs": [],
   "source": [
    "# Variáveis\n",
    "variables = churn.select_dtypes(['int64', 'float64']).columns.to_list()\n",
    "\n",
    "# Setando a posicão inicial\n",
    "n = 1\n",
    "\n",
    "plt.figure(figsize=(18, 10))\n",
    "for column in churn[variables].columns:\n",
    "    plt.subplot(4, 4, n)\n",
    "    _ = sns.boxplot(x=column, data=churn)\n",
    "    n += 1\n",
    "\n",
    "plt.subplots_adjust(hspace=0.5)\n",
    "plt.show()"
   ]
  },
  {
   "cell_type": "markdown",
   "metadata": {
    "hidden": true
   },
   "source": [
    " - Observamos Outliers nas variáveis 'CreditScore', 'Age','NumOfProducts'"
   ]
  },
  {
   "cell_type": "markdown",
   "metadata": {
    "hidden": true
   },
   "source": [
    "### CreditScore"
   ]
  },
  {
   "cell_type": "code",
   "execution_count": null,
   "metadata": {
    "ExecuteTime": {
     "end_time": "2020-11-28T13:09:18.320885Z",
     "start_time": "2020-11-28T13:09:18.312499Z"
    },
    "hidden": true
   },
   "outputs": [],
   "source": [
    "# Calculando o Q1 e Q3 e IQR\n",
    "Q1 = np.quantile(churn['CreditScore'], .25)\n",
    "Q3 = np.quantile(churn['CreditScore'], .75)\n",
    "IQR = Q3 - Q1\n",
    "\n",
    "# Calculando os limites low and high\n",
    "low = Q1 - 1.5 * IQR\n",
    "high = Q3 + 1.5 * IQR\n",
    "\n",
    "# priting the limits\n",
    "print(f'O limite inferior é {low}')\n",
    "print(f'O limite superior é {high}')"
   ]
  },
  {
   "cell_type": "markdown",
   "metadata": {
    "hidden": true
   },
   "source": [
    " - Filtrando somente o limite inferior, pois no boxplot observamos outliers somente no limite inferior."
   ]
  },
  {
   "cell_type": "markdown",
   "metadata": {
    "hidden": true
   },
   "source": [
    "### Age"
   ]
  },
  {
   "cell_type": "code",
   "execution_count": null,
   "metadata": {
    "ExecuteTime": {
     "end_time": "2020-11-28T13:09:18.938736Z",
     "start_time": "2020-11-28T13:09:18.929926Z"
    },
    "hidden": true
   },
   "outputs": [],
   "source": [
    "# Calculando o Q1 e Q3 e IQR\n",
    "Q1 = np.quantile(churn['Age'], .25)\n",
    "Q3 = np.quantile(churn['Age'], .75)\n",
    "IQR = Q3 - Q1\n",
    "\n",
    "# Calculando os limites low and high\n",
    "low = Q1 - 1.5 * IQR\n",
    "high = Q3 + 1.5 * IQR\n",
    "\n",
    "# priting the limits\n",
    "print(f'O limite inferior é {low}')\n",
    "print(f'O limite superior é {high}')"
   ]
  },
  {
   "cell_type": "markdown",
   "metadata": {
    "ExecuteTime": {
     "end_time": "2020-11-21T09:39:14.619098Z",
     "start_time": "2020-11-21T09:39:14.613208Z"
    },
    "hidden": true
   },
   "source": [
    " - Filtrando somente o limite superior, pois no boxplot observamos outliers somente no limite superior."
   ]
  },
  {
   "cell_type": "markdown",
   "metadata": {
    "hidden": true
   },
   "source": [
    "### NumOfProducts"
   ]
  },
  {
   "cell_type": "markdown",
   "metadata": {
    "hidden": true
   },
   "source": [
    "Iremos filtrar todas as observações com 4 produtos, pois conforme o boxplot os outliers estão nesse patamar."
   ]
  },
  {
   "cell_type": "markdown",
   "metadata": {
    "collapsed": "true"
   },
   "source": [
    "# 3.0 Limpeza de Dados"
   ]
  },
  {
   "cell_type": "markdown",
   "metadata": {},
   "source": [
    " ## 3.1 Cleaning Outliers."
   ]
  },
  {
   "cell_type": "code",
   "execution_count": 4,
   "metadata": {
    "ExecuteTime": {
     "end_time": "2020-11-28T13:09:30.337736Z",
     "start_time": "2020-11-28T13:09:30.321466Z"
    }
   },
   "outputs": [],
   "source": [
    "# Filtrando 'CreditScore' somente o limite inferior.\n",
    "churn = churn.loc[churn['CreditScore']>400, ]\n",
    "\n",
    "# Filtrando 'Age' somente o limite inferior\n",
    "churn = churn.loc[churn['Age']<59, ]\n",
    "\n",
    "# Filtrando 'NumOfProducts'\n",
    "churn = churn.loc[churn['NumOfProducts']<4, ]"
   ]
  },
  {
   "cell_type": "code",
   "execution_count": 5,
   "metadata": {
    "ExecuteTime": {
     "end_time": "2020-11-28T13:09:30.988588Z",
     "start_time": "2020-11-28T13:09:30.394826Z"
    }
   },
   "outputs": [
    {
     "data": {
      "image/png": "[encoded data removed]",
      "text/plain": [
       "<Figure size 1296x720 with 11 Axes>"
      ]
     },
     "metadata": {
      "needs_background": "light"
     },
     "output_type": "display_data"
    }
   ],
   "source": [
    "# checking the outliers again.\n",
    "# Variáveis\n",
    "variables = churn.select_dtypes(['int64', 'float64']).columns.to_list()\n",
    "\n",
    "# Setando a posicão inicial\n",
    "n = 1\n",
    "\n",
    "plt.figure(figsize=(18, 10))\n",
    "for column in churn[variables].columns:\n",
    "    plt.subplot(4, 4, n)\n",
    "    _ = sns.boxplot(x=column, data=churn)\n",
    "    n += 1\n",
    "\n",
    "plt.subplots_adjust(hspace=0.5)\n",
    "plt.show()"
   ]
  },
  {
   "cell_type": "markdown",
   "metadata": {},
   "source": [
    "# 4.0 Feature Engineering"
   ]
  },
  {
   "cell_type": "markdown",
   "metadata": {},
   "source": [
    "- Eliminar as variáveis RowNumber, CustomersId, Surname(granularidade alta) por apresentarem pouco ganho de informação para a modelagem do nosso problema.\n",
    "- Criar variável com Kmeans usando k=2. O valor de k é devido a estarmos trabalhando com um problema binário.\n",
    "- Criar variável EstimatedSalary por location. Distribuição da renda podem nos ajudar na modelagem do problema.\n",
    "- Binning as variáveis CreditScore, Age, Tenure, Balance, EstimatedSalary. Realizando o Binning dessas variáveis diminuimos a granularidade das mesmas o que irá facilitar a modelagem do problema futuramente.\n",
    "- Criar a variável LTV - Life Time Value, através da divisão de Balance por Tenure."
   ]
  },
  {
   "cell_type": "code",
   "execution_count": 6,
   "metadata": {
    "ExecuteTime": {
     "end_time": "2020-11-28T13:09:34.492168Z",
     "start_time": "2020-11-28T13:09:34.487555Z"
    }
   },
   "outputs": [],
   "source": [
    "# Copia do dataset original\n",
    "dataset = churn.copy()"
   ]
  },
  {
   "cell_type": "code",
   "execution_count": 7,
   "metadata": {
    "ExecuteTime": {
     "end_time": "2020-11-28T13:09:34.822139Z",
     "start_time": "2020-11-28T13:09:34.818518Z"
    }
   },
   "outputs": [],
   "source": [
    "# Eliminando RowNumber, CustomersId, Surname(granularidade alta)\n",
    "dataset.drop(['RowNumber','CustomerId','Surname'], inplace=True, axis=1)"
   ]
  },
  {
   "cell_type": "code",
   "execution_count": 8,
   "metadata": {
    "ExecuteTime": {
     "end_time": "2020-11-28T13:09:35.898698Z",
     "start_time": "2020-11-28T13:09:35.087351Z"
    }
   },
   "outputs": [],
   "source": [
    "# Variável kmeans distancia eucliadiana\n",
    "# Criando copia\n",
    "churn_temp = dataset.copy()\n",
    "\n",
    "# Encoder\n",
    "enc = OrdinalEncoder()\n",
    "churn_temp['Gender'] = churn_temp['Gender'].apply(lambda x: 1 if x == 'Female' else 0)\n",
    "churn_temp['Geography'] = enc.fit_transform(np.array(churn_temp['Geography']).reshape(-1,1))\n",
    "\n",
    "# kmeans model\n",
    "model = KMeans(n_clusters=2,init='k-means++')\n",
    "model.fit(churn_temp)\n",
    "dataset['kmeans_group'] = model.labels_\n",
    "dataset['kmeans_group'] = dataset['kmeans_group'].astype('category')\n",
    "dataset['kmeans_group'] = dataset['kmeans_group'].apply(lambda x: 'G1' if x==1 else 'G2')"
   ]
  },
  {
   "cell_type": "code",
   "execution_count": 9,
   "metadata": {
    "ExecuteTime": {
     "end_time": "2020-11-28T13:09:36.222038Z",
     "start_time": "2020-11-28T13:09:36.204210Z"
    }
   },
   "outputs": [],
   "source": [
    "# Criar variável Balance por location\n",
    "group_balance = dataset.groupby('Geography').agg({'Balance': ['mean']}).reset_index()\n",
    "group = pd.concat([group_balance['Geography'],group_balance['Balance']['mean']], axis=1)\n",
    "dataset = dataset.merge(group, left_on='Geography', right_on='Geography', how='inner')"
   ]
  },
  {
   "cell_type": "code",
   "execution_count": 10,
   "metadata": {
    "ExecuteTime": {
     "end_time": "2020-11-28T13:09:36.582064Z",
     "start_time": "2020-11-28T13:09:36.565252Z"
    }
   },
   "outputs": [],
   "source": [
    "# Criar variável EstimatedSalary por location\n",
    "group_balance = dataset.groupby('Geography').agg({'EstimatedSalary': ['mean']}).reset_index()\n",
    "group = pd.concat([group_balance['Geography'],  group_balance['EstimatedSalary']['mean']], axis=1)\n",
    "dataset = dataset.merge(group, left_on='Geography', right_on='Geography', how='inner')"
   ]
  },
  {
   "cell_type": "code",
   "execution_count": null,
   "metadata": {},
   "outputs": [],
   "source": [
    "# "
   ]
  },
  {
   "cell_type": "code",
   "execution_count": 11,
   "metadata": {
    "ExecuteTime": {
     "end_time": "2020-11-28T13:09:37.961760Z",
     "start_time": "2020-11-28T13:09:37.938619Z"
    }
   },
   "outputs": [],
   "source": [
    "# # Binning\n",
    "# # CreditScore\n",
    "# dataset['CreditScore_new'] = pd.qcut(dataset['CreditScore'],q=10, labels=['G1','G2','G3','G4','G5','G6','G7','G8','G9','G10'])\n",
    "\n",
    "# # Age\n",
    "# dataset['Age_new'] = pd.qcut(dataset['Age'],q=10, labels=['G1','G2','G3','G4','G5','G6','G7','G8','G9','G10'])\n",
    "\n",
    "# # Tenure\n",
    "# dataset['Tenure_new'] = pd.qcut(dataset['Tenure'],q=10, labels=['G1','G2','G3','G4','G5','G6','G7','G8','G9','G10'])\n",
    "\n",
    "# # Balance\n",
    "# dataset['Balance_new'] = pd.qcut(dataset['Balance'],q=[.35, .70, 1], labels = ['G1','G2'])\n",
    "\n",
    "# # EstimatedSalary\n",
    "# dataset['EstimatedSalary_new'] = pd.qcut(dataset['EstimatedSalary'],q=10, labels=['G1','G2','G3','G4','G5','G6','G7','G8','G9','G10'])"
   ]
  },
  {
   "cell_type": "code",
   "execution_count": 13,
   "metadata": {
    "ExecuteTime": {
     "end_time": "2020-11-28T13:09:38.399495Z",
     "start_time": "2020-11-28T13:09:38.395886Z"
    }
   },
   "outputs": [],
   "source": [
    "# LTV\n",
    "balance = dataset['Balance'].astype('int64')\n",
    "dataset['LTV'] = balance / (dataset['Tenure'] + 0.1)"
   ]
  },
  {
   "cell_type": "code",
   "execution_count": 14,
   "metadata": {
    "ExecuteTime": {
     "end_time": "2020-11-28T13:09:38.963585Z",
     "start_time": "2020-11-28T13:09:38.938053Z"
    }
   },
   "outputs": [
    {
     "data": {
      "text/html": [
       "<div>\n",
       "<style scoped>\n",
       "    .dataframe tbody tr th:only-of-type {\n",
       "        vertical-align: middle;\n",
       "    }\n",
       "\n",
       "    .dataframe tbody tr th {\n",
       "        vertical-align: top;\n",
       "    }\n",
       "\n",
       "    .dataframe thead th {\n",
       "        text-align: right;\n",
       "    }\n",
       "</style>\n",
       "<table border=\"1\" class=\"dataframe\">\n",
       "  <thead>\n",
       "    <tr style=\"text-align: right;\">\n",
       "      <th></th>\n",
       "      <th>CreditScore</th>\n",
       "      <th>Geography</th>\n",
       "      <th>Gender</th>\n",
       "      <th>Age</th>\n",
       "      <th>Tenure</th>\n",
       "      <th>Balance</th>\n",
       "      <th>NumOfProducts</th>\n",
       "      <th>HasCrCard</th>\n",
       "      <th>IsActiveMember</th>\n",
       "      <th>EstimatedSalary</th>\n",
       "      <th>Exited</th>\n",
       "      <th>kmeans_group</th>\n",
       "      <th>mean_x</th>\n",
       "      <th>mean_y</th>\n",
       "      <th>LTV</th>\n",
       "    </tr>\n",
       "  </thead>\n",
       "  <tbody>\n",
       "    <tr>\n",
       "      <th>0</th>\n",
       "      <td>619</td>\n",
       "      <td>France</td>\n",
       "      <td>Female</td>\n",
       "      <td>42</td>\n",
       "      <td>2</td>\n",
       "      <td>0.00</td>\n",
       "      <td>1</td>\n",
       "      <td>1</td>\n",
       "      <td>1</td>\n",
       "      <td>101348.88</td>\n",
       "      <td>1</td>\n",
       "      <td>G1</td>\n",
       "      <td>62155.348676</td>\n",
       "      <td>100060.32564</td>\n",
       "      <td>0.000000</td>\n",
       "    </tr>\n",
       "    <tr>\n",
       "      <th>1</th>\n",
       "      <td>502</td>\n",
       "      <td>France</td>\n",
       "      <td>Female</td>\n",
       "      <td>42</td>\n",
       "      <td>8</td>\n",
       "      <td>159660.80</td>\n",
       "      <td>3</td>\n",
       "      <td>1</td>\n",
       "      <td>0</td>\n",
       "      <td>113931.57</td>\n",
       "      <td>1</td>\n",
       "      <td>G2</td>\n",
       "      <td>62155.348676</td>\n",
       "      <td>100060.32564</td>\n",
       "      <td>19711.111111</td>\n",
       "    </tr>\n",
       "    <tr>\n",
       "      <th>2</th>\n",
       "      <td>699</td>\n",
       "      <td>France</td>\n",
       "      <td>Female</td>\n",
       "      <td>39</td>\n",
       "      <td>1</td>\n",
       "      <td>0.00</td>\n",
       "      <td>2</td>\n",
       "      <td>0</td>\n",
       "      <td>0</td>\n",
       "      <td>93826.63</td>\n",
       "      <td>0</td>\n",
       "      <td>G1</td>\n",
       "      <td>62155.348676</td>\n",
       "      <td>100060.32564</td>\n",
       "      <td>0.000000</td>\n",
       "    </tr>\n",
       "    <tr>\n",
       "      <th>3</th>\n",
       "      <td>822</td>\n",
       "      <td>France</td>\n",
       "      <td>Male</td>\n",
       "      <td>50</td>\n",
       "      <td>7</td>\n",
       "      <td>0.00</td>\n",
       "      <td>2</td>\n",
       "      <td>1</td>\n",
       "      <td>1</td>\n",
       "      <td>10062.80</td>\n",
       "      <td>0</td>\n",
       "      <td>G1</td>\n",
       "      <td>62155.348676</td>\n",
       "      <td>100060.32564</td>\n",
       "      <td>0.000000</td>\n",
       "    </tr>\n",
       "    <tr>\n",
       "      <th>4</th>\n",
       "      <td>501</td>\n",
       "      <td>France</td>\n",
       "      <td>Male</td>\n",
       "      <td>44</td>\n",
       "      <td>4</td>\n",
       "      <td>142051.07</td>\n",
       "      <td>2</td>\n",
       "      <td>0</td>\n",
       "      <td>1</td>\n",
       "      <td>74940.50</td>\n",
       "      <td>0</td>\n",
       "      <td>G2</td>\n",
       "      <td>62155.348676</td>\n",
       "      <td>100060.32564</td>\n",
       "      <td>34646.585366</td>\n",
       "    </tr>\n",
       "  </tbody>\n",
       "</table>\n",
       "</div>"
      ],
      "text/plain": [
       "   CreditScore Geography  Gender  Age  Tenure    Balance  NumOfProducts  \\\n",
       "0          619    France  Female   42       2       0.00              1   \n",
       "1          502    France  Female   42       8  159660.80              3   \n",
       "2          699    France  Female   39       1       0.00              2   \n",
       "3          822    France    Male   50       7       0.00              2   \n",
       "4          501    France    Male   44       4  142051.07              2   \n",
       "\n",
       "   HasCrCard  IsActiveMember  EstimatedSalary  Exited kmeans_group  \\\n",
       "0          1               1        101348.88       1           G1   \n",
       "1          1               0        113931.57       1           G2   \n",
       "2          0               0         93826.63       0           G1   \n",
       "3          1               1         10062.80       0           G1   \n",
       "4          0               1         74940.50       0           G2   \n",
       "\n",
       "         mean_x        mean_y           LTV  \n",
       "0  62155.348676  100060.32564      0.000000  \n",
       "1  62155.348676  100060.32564  19711.111111  \n",
       "2  62155.348676  100060.32564      0.000000  \n",
       "3  62155.348676  100060.32564      0.000000  \n",
       "4  62155.348676  100060.32564  34646.585366  "
      ]
     },
     "execution_count": 14,
     "metadata": {},
     "output_type": "execute_result"
    }
   ],
   "source": [
    "# Dando uma olhada como ficou o dataset\n",
    "dataset.head()"
   ]
  },
  {
   "cell_type": "markdown",
   "metadata": {},
   "source": [
    "# 5.0 EDA"
   ]
  },
  {
   "cell_type": "markdown",
   "metadata": {},
   "source": [
    "## 5.1 Análise Univariada"
   ]
  },
  {
   "cell_type": "markdown",
   "metadata": {},
   "source": [
    "### Variáveis Categóricas"
   ]
  },
  {
   "cell_type": "code",
   "execution_count": null,
   "metadata": {
    "ExecuteTime": {
     "end_time": "2020-11-28T13:09:46.456690Z",
     "start_time": "2020-11-28T13:09:44.258218Z"
    }
   },
   "outputs": [],
   "source": [
    "# checking the outliers again.\n",
    "# Variáveis\n",
    "variables = dataset.select_dtypes(['category']).columns.to_list()\n",
    "\n",
    "# Setando a posicão inicial\n",
    "n = 1\n",
    "\n",
    "plt.figure(figsize=(36, 32))\n",
    "for column in dataset[variables].columns:\n",
    "    plt.subplot(4, 4, n)\n",
    "    _ = sns.countplot(y=column,hue='Exited', data=dataset)\n",
    "    n += 1\n",
    "\n",
    "plt.subplots_adjust(hspace=0.6,wspace=0.5)\n",
    "plt.show()"
   ]
  },
  {
   "cell_type": "markdown",
   "metadata": {},
   "source": [
    "- Os casos de churn paracem diminuir a medida que aumenta a variável 'Ternure'\n",
    "- Os casos de churn parecem aumentar a medida que a idade dos clientes também aumenta.\n",
    "- Outro ponto parece haver um maior concetração de churn entre os clientes que não estão ativos."
   ]
  },
  {
   "cell_type": "markdown",
   "metadata": {},
   "source": [
    "### Variáveis Númericas."
   ]
  },
  {
   "cell_type": "code",
   "execution_count": null,
   "metadata": {
    "ExecuteTime": {
     "end_time": "2020-11-28T13:09:53.511371Z",
     "start_time": "2020-11-28T13:09:51.371701Z"
    }
   },
   "outputs": [],
   "source": [
    "# Antes do feature eng\n",
    "variables = dataset.select_dtypes(['int64','float64']).columns.to_list()\n",
    "#variables.remove('RowNumber'), variables.remove('CustomerId')\n",
    "\n",
    "# Setando a posicão inicial\n",
    "n = 1\n",
    "\n",
    "plt.figure(figsize=(36, 32))\n",
    "for column in dataset[variables].columns[:len(variables)-1]:\n",
    "    plt.subplot(4, 4, n)\n",
    "    _ = sns.histplot(data = dataset, x=column, hue='Exited')\n",
    "    n += 1\n",
    "\n",
    "plt.subplots_adjust(hspace=0.6,wspace=0.5)\n",
    "plt.show()"
   ]
  },
  {
   "cell_type": "markdown",
   "metadata": {
    "ExecuteTime": {
     "end_time": "2020-11-23T23:33:46.999508Z",
     "start_time": "2020-11-23T23:33:46.994799Z"
    }
   },
   "source": [
    "- Confirmamos a tendência de maior churn entre clientes com maior idade.\n",
    "- Observamos também muitos clientes com 'balance' igual a zero, porém seme uma concetração atipica de casos de churn\n",
    "- Distribuições proximas da normal com um skew fraco."
   ]
  },
  {
   "cell_type": "code",
   "execution_count": null,
   "metadata": {
    "ExecuteTime": {
     "end_time": "2020-11-28T13:09:57.963965Z",
     "start_time": "2020-11-28T13:09:57.464108Z"
    }
   },
   "outputs": [],
   "source": [
    "# LTV\n",
    "LTV = dataset.loc[(dataset['LTV'] != 0) & (dataset['LTV'] < (0.3*1000000)),]\n",
    "\n",
    "plt.figure(figsize=(10, 8))\n",
    "sns.histplot(data = LTV, x='LTV', hue='Exited')\n",
    "plt.show()"
   ]
  },
  {
   "cell_type": "markdown",
   "metadata": {},
   "source": [
    "- Distribuição com forte skew. Iremos proceder com normalização dos dados na etapa de Feature Eng."
   ]
  },
  {
   "cell_type": "markdown",
   "metadata": {},
   "source": [
    "## 5.2 Análise Multivariada"
   ]
  },
  {
   "cell_type": "code",
   "execution_count": null,
   "metadata": {
    "ExecuteTime": {
     "end_time": "2020-11-28T13:10:50.182440Z",
     "start_time": "2020-11-28T13:10:09.970803Z"
    }
   },
   "outputs": [],
   "source": [
    "# Variáveis\n",
    "variables = dataset.select_dtypes(['int64','float64']).columns.to_list()\n",
    "\n",
    "sns.pairplot(dataset[variables], hue='Exited')"
   ]
  },
  {
   "cell_type": "markdown",
   "metadata": {},
   "source": [
    "- Não é possível observar nenhuma relação linear entre as variáveis.\n",
    "- É possivel também notar uma concentração de casos de churn no NumOfProducts igual a 3. "
   ]
  },
  {
   "cell_type": "markdown",
   "metadata": {},
   "source": [
    "### Correlations"
   ]
  },
  {
   "cell_type": "markdown",
   "metadata": {},
   "source": [
    "##### Variáveis Numericas"
   ]
  },
  {
   "cell_type": "code",
   "execution_count": null,
   "metadata": {
    "ExecuteTime": {
     "end_time": "2020-11-28T13:18:46.475962Z",
     "start_time": "2020-11-28T13:18:46.048643Z"
    }
   },
   "outputs": [],
   "source": [
    "# Pearson correlation Matrix\n",
    "Myheat_map(dataset =dataset, variaveis=variables)"
   ]
  },
  {
   "cell_type": "markdown",
   "metadata": {},
   "source": [
    "- Observamos uma grande correlação entre a variavel mean_Y e mean_X iremos excluir uma delas"
   ]
  },
  {
   "cell_type": "code",
   "execution_count": null,
   "metadata": {
    "ExecuteTime": {
     "end_time": "2020-11-28T13:18:50.886213Z",
     "start_time": "2020-11-28T13:18:50.482496Z"
    }
   },
   "outputs": [],
   "source": [
    "# Removendo a variável mean_x\n",
    "variables.remove('mean_x')\n",
    "Myheat_map(dataset =dataset, variaveis=variables)"
   ]
  },
  {
   "cell_type": "code",
   "execution_count": null,
   "metadata": {
    "ExecuteTime": {
     "end_time": "2020-11-28T13:18:54.297425Z",
     "start_time": "2020-11-28T13:18:54.056980Z"
    }
   },
   "outputs": [],
   "source": [
    "# Numericas com relação a target\n",
    "variables = dataset.select_dtypes(['int64','float64']).columns.to_list()\n",
    "\n",
    "# Correlações\n",
    "corrs = [pointbiserialr(dataset['Exited'], dataset[var])[0] for var in variables]\n",
    "df_corr = pd.DataFrame({'Exited': corrs}, index=variables)\n",
    "\n",
    "# Plot Matrix\n",
    "fig, ax = plt.subplots()\n",
    "plt.subplot(1, 2, 1)\n",
    "sns.heatmap(df_corr, annot=True, annot_kws={\"fontsize\":14}, cmap='viridis')\n",
    "plt.title(\"Pointbiserialr\")"
   ]
  },
  {
   "cell_type": "markdown",
   "metadata": {},
   "source": [
    "- Nenhuma variável com a correlação significante  com relação a variávl Target."
   ]
  },
  {
   "cell_type": "markdown",
   "metadata": {},
   "source": [
    "### Variáveis categoricas - cramers v"
   ]
  },
  {
   "cell_type": "code",
   "execution_count": null,
   "metadata": {
    "ExecuteTime": {
     "end_time": "2020-11-28T13:21:55.478014Z",
     "start_time": "2020-11-28T13:21:53.688639Z"
    }
   },
   "outputs": [],
   "source": [
    "# colunas\n",
    "cols = dataset.select_dtypes(['category', 'object']).columns.to_list()\n",
    "cols.append('HasCrCard'), cols.append('IsActiveMember'), cols.append('Exited')\n",
    "\n",
    "# Dicionário para registro das correlações\n",
    "dictt = {\n",
    "        'Geography': [],\n",
    "        'Gender': [],\n",
    "        'HasCrCard': [],\n",
    "        'IsActiveMember': [],\n",
    "        'kmeans_group': [],\n",
    "        'CreditScore_new': [],\n",
    "        'Age_new': [],\n",
    "        'Tenure_new': [],\n",
    "        'Balance_new': [],\n",
    "        'EstimatedSalary_new': [],\n",
    "        'Exited': []\n",
    "        }\n",
    "\n",
    "for col in cols:\n",
    "    for col1 in cols:\n",
    "        corr = cramer_v(dataset[col], dataset[col1])\n",
    "        dictt[col].append(corr)\n",
    "        \n",
    "# Matriz de Correlação\n",
    "df_cramer1 = pd.DataFrame(dictt)\n",
    "df_cramer1 = df_cramer1.set_index(df_cramer1.columns)\n",
    "\n",
    "# HeatMap\n",
    "fig, ax = plt.subplots()\n",
    "ax.figure.set_size_inches(16, 6)\n",
    "\n",
    "mask = np.triu(np.ones_like(df_cramer1, dtype=np.bool))\n",
    "sns.heatmap(df_cramer1, mask=mask, linewidths=.5, annot=True, annot_kws={\"fontsize\":14}, cmap='viridis')\n",
    "plt.title(\"Cramér V\")"
   ]
  },
  {
   "cell_type": "markdown",
   "metadata": {},
   "source": [
    "- Não encontramos nenhuma variável com alta correlação. Estou considerando correlações acima de 0.6 seriam eliminadas."
   ]
  },
  {
   "cell_type": "markdown",
   "metadata": {
    "heading_collapsed": true
   },
   "source": [
    "# 6.0 Teste de Hipóteses"
   ]
  },
  {
   "cell_type": "markdown",
   "metadata": {},
   "source": [
    " - H1 - O 'Balance' é maior acima de 30 anos de idade.\n",
    " - H2 - O 'Balance' é maior entre os clientes homens que mulheres.\n",
    " - H3 - O 'EstimatedSalary' é maior entre clientes homens que mulheres.\n",
    " - H4 - O 'EstimatedSalary' é maior acima de 30 anos de idade.\n",
    " - H5 - O churn é maior entre os menbros inativos que os ativos."
   ]
  },
  {
   "cell_type": "markdown",
   "metadata": {
    "hidden": true
   },
   "source": [
    "## H1 - O 'Balance' é maior acima de 30 anos de idade.\n",
    "\n",
    "ho - Não a diferença entre o 'Balance' abaixo de 30anos e acima de 30anos.\n",
    "\n",
    "h1 - Existe diferença entre o 'Balance' abaixo de 30anos e acima de 30anos."
   ]
  },
  {
   "cell_type": "code",
   "execution_count": null,
   "metadata": {},
   "outputs": [],
   "source": [
    "# Dados\n",
    "dados_h1_over = churn.loc[churn['Age']>30,'Balance']\n",
    "dados_h1_under = churn.loc[churn['Age']<30,'Balance']\n",
    "\n",
    "# Testando Hiposteses\n",
    "print(f'Média over 30anos: {dados_h1_over.mean()}\\n')\n",
    "print(f'Média under 30anos: {dados_h1_under.mean()}\\n')\n",
    "hipo_test(dados_h1_over, dados_h1_under)"
   ]
  },
  {
   "cell_type": "markdown",
   "metadata": {},
   "source": [
    "Provável haver diferença com os 'Balances' sendo maiores entre os clientes com mais de 30 anos de idade. Hipótese nula pode ser rejeitada."
   ]
  },
  {
   "cell_type": "markdown",
   "metadata": {},
   "source": [
    "## H2 - O 'Balance' é maior entre os clientes homens que mulheres.\n",
    "\n",
    "ho - Não a diferença entre o 'Balance' abaixo de 30anos e acima de 30anos.\n",
    "\n",
    "h1 - Existe diferença entre o 'Balance' abaixo de 30anos e acima de 30anos."
   ]
  },
  {
   "cell_type": "code",
   "execution_count": null,
   "metadata": {},
   "outputs": [],
   "source": [
    "# Dados\n",
    "dados_h2_male = churn.loc[churn['Gender']=='Male','Balance']\n",
    "dados_h2_female = churn.loc[churn['Gender']=='Female','Balance']\n",
    "\n",
    "# Testando Hipoteses\n",
    "print(f'Média para Homens: {dados_h2_male.mean()}\\n')\n",
    "print(f'Média para Mulheres: {dados_h2_female.mean()}\\n')\n",
    "hipo_test(dados_h2_male, dados_h2_female)"
   ]
  },
  {
   "cell_type": "markdown",
   "metadata": {},
   "source": [
    "Pareçe não haver diferença entre homens e mulheres. Hipótese nula não pode ser rejeitada."
   ]
  },
  {
   "cell_type": "markdown",
   "metadata": {},
   "source": [
    "## H3 - O 'EstimatedSalary' é maior entre clientes homens que mulheres."
   ]
  },
  {
   "cell_type": "markdown",
   "metadata": {},
   "source": [
    "ho - Não a diferença entre o 'EstimatedSalary' para Homens e Mulheres\n",
    "\n",
    "h1 - Existe diferença entre o 'EstimatedSalary' abaixo de 30anos e acima de 30anos."
   ]
  },
  {
   "cell_type": "code",
   "execution_count": null,
   "metadata": {},
   "outputs": [],
   "source": [
    "# Dados\n",
    "dados_h3_male = churn.loc[churn['Gender']=='Male','EstimatedSalary']\n",
    "dados_h3_female = churn.loc[churn['Gender']=='Female','EstimatedSalary']\n",
    "\n",
    "# Testando Hipoteses\n",
    "print(f'Média para Homens: {dados_h3_male.mean()}\\n')\n",
    "print(f'Média para Mulheres: {dados_h3_female.mean()}\\n')\n",
    "hipo_test(dados_h3_male, dados_h3_female)"
   ]
  },
  {
   "cell_type": "markdown",
   "metadata": {},
   "source": [
    "Provável que não haja diferença apesar da media (absolutamente) para mulheres ser maior. Hipótese nula não pode ser rejeitada. "
   ]
  },
  {
   "cell_type": "markdown",
   "metadata": {},
   "source": [
    "## H4 - O 'EstimatedSalary' é maior acima de 30 anos de idade."
   ]
  },
  {
   "cell_type": "code",
   "execution_count": null,
   "metadata": {},
   "outputs": [],
   "source": [
    "# Dados\n",
    "dados_h4_over = churn.loc[churn['Age']>30,'EstimatedSalary']\n",
    "dados_h4_under = churn.loc[churn['Age']<30,'EstimatedSalary']\n",
    "\n",
    "# Testando Hiposteses\n",
    "print(f'Média over 30anos: {dados_h4_over.mean()}\\n')\n",
    "print(f'Média under 30anos: {dados_h4_under.mean()}\\n')\n",
    "hipo_test(dados_h4_over, dados_h4_under)"
   ]
  },
  {
   "cell_type": "markdown",
   "metadata": {},
   "source": [
    "Provável que não haja diferença apesar da media (absolutamente) para clientes abaixo de 30 ser maior. Hipótese nula não pode ser rejeitada. "
   ]
  },
  {
   "cell_type": "markdown",
   "metadata": {},
   "source": [
    "## H5 - O churn é maior entre os membros inativos que os ativos."
   ]
  },
  {
   "cell_type": "code",
   "execution_count": null,
   "metadata": {},
   "outputs": [],
   "source": [
    "dados_h5_nchurn = churn.loc[churn['Exited']==0,'IsActiveMember']\n",
    "dados_h5_churn  = churn.loc[churn['Exited']==1,'IsActiveMember']\n",
    "\n",
    "# Testando Hiposteses\n",
    "print(f'Média para a classe 0: {dados_h5_nchurn.mean()}\\n')\n",
    "print(f'Média para a classe 1: {dados_h5_churn.mean()}\\n')\n",
    "hipo_test(dados_h5_nchurn, dados_h5_churn)"
   ]
  },
  {
   "cell_type": "markdown",
   "metadata": {},
   "source": [
    "Provável haver diferença com a classe 0 havendo a maior incidencia do evento churn dessa forma a inatividade do cliente pode levar ao churn. "
   ]
  },
  {
   "cell_type": "markdown",
   "metadata": {},
   "source": [
    "# 7.0 Split de Dados"
   ]
  },
  {
   "cell_type": "code",
   "execution_count": 14,
   "metadata": {
    "ExecuteTime": {
     "end_time": "2020-11-28T13:23:04.258452Z",
     "start_time": "2020-11-28T13:23:04.245915Z"
    }
   },
   "outputs": [],
   "source": [
    "# X e y\n",
    "X = dataset.drop('Exited', axis=1)\n",
    "y = dataset['Exited']\n",
    "\n",
    "Xtrain, Xtest, ytrain, ytest = train_test_split(X, y, test_size=0.1, shuffle=True, random_state=1)\n",
    "\n",
    "# Alterando os tipos da Geography e Gender\n",
    "varr = ['Geography', 'Gender']\n",
    "for var in varr:\n",
    "    Xtrain[var] = Xtrain[var].astype('category')\n",
    "    Xtest[var] = Xtest[var].astype('category')\n",
    "\n",
    "# Alterando o tipo dos ys\n",
    "ytrain = ytrain.astype('int64')\n",
    "ytest = ytest.astype('int64')"
   ]
  },
  {
   "cell_type": "markdown",
   "metadata": {},
   "source": [
    "# 8.0 Data Preparation"
   ]
  },
  {
   "cell_type": "code",
   "execution_count": 15,
   "metadata": {
    "ExecuteTime": {
     "end_time": "2020-11-28T13:23:16.787994Z",
     "start_time": "2020-11-28T13:23:16.588741Z"
    }
   },
   "outputs": [],
   "source": [
    "# Ordinal Encoder\n",
    "variaveis = ['Geography', \n",
    "             'Gender',\n",
    "             'kmeans_group',\n",
    "             'CreditScore_new', \t\n",
    "             'Age_new', \t\n",
    "             'Tenure_new', \t\n",
    "             'Balance_new', \t\n",
    "             'EstimatedSalary_new']\n",
    "\n",
    "# Instanciando o Ordinal Encoder\n",
    "enc = OrdinalEncoder()\n",
    "\n",
    "for var in variaveis:\n",
    "    Xtrain[var] = enc.fit_transform(np.array(Xtrain[var]).reshape(-1,1))\n",
    "    Xtest[var] = enc.transform(np.array(Xtest[var]).reshape(-1,1))\n",
    "\n",
    "# RobustScaler\n",
    "variaveis = ['CreditScore', \n",
    "             'Age', \n",
    "             'Tenure', \n",
    "             'Balance', \n",
    "             'NumOfProducts', \n",
    "             'EstimatedSalary', \n",
    "             'mean_x', \n",
    "             'mean_y',\n",
    "             'LTV']\n",
    "\n",
    "# Instanciando o Robust Scaler\n",
    "scaler = RobustScaler()\n",
    "\n",
    "for var in variaveis:\n",
    "    Xtrain[var] = scaler.fit_transform(np.array(Xtrain[var]).reshape(-1,1))\n",
    "    Xtest[var] = scaler.transform(np.array(Xtest[var]).reshape(-1,1))"
   ]
  },
  {
   "cell_type": "markdown",
   "metadata": {},
   "source": [
    "## 8.1 Balanciamento dos dados"
   ]
  },
  {
   "cell_type": "code",
   "execution_count": 16,
   "metadata": {
    "ExecuteTime": {
     "end_time": "2020-11-28T13:23:21.274692Z",
     "start_time": "2020-11-28T13:23:20.751531Z"
    }
   },
   "outputs": [],
   "source": [
    "# Adicionando balanciamento de dados ao Pipeline\n",
    "\n",
    "# Instanciando o balanciador\n",
    "smt = SMOTETomek(sampling_strategy='minority' ,random_state=42)\n",
    "Xtrain_smt, ytrain_smt = smt.fit_resample(Xtrain, ytrain)\n",
    "Xtest_smt, ytest_smt = smt.fit_resample(Xtest, ytest)"
   ]
  },
  {
   "cell_type": "code",
   "execution_count": 17,
   "metadata": {
    "ExecuteTime": {
     "end_time": "2020-11-28T13:23:22.390795Z",
     "start_time": "2020-11-28T13:23:22.283974Z"
    }
   },
   "outputs": [
    {
     "data": {
      "text/plain": [
       "<AxesSubplot:xlabel='Exited', ylabel='count'>"
      ]
     },
     "execution_count": 17,
     "metadata": {},
     "output_type": "execute_result"
    },
    {
     "data": {
      "image/png": "[encoded data removed]",
      "text/plain": [
       "<Figure size 432x288 with 1 Axes>"
      ]
     },
     "metadata": {
      "needs_background": "light"
     },
     "output_type": "display_data"
    }
   ],
   "source": [
    "sns.countplot(x='Exited', data=pd.DataFrame(ytrain_smt))"
   ]
  },
  {
   "cell_type": "markdown",
   "metadata": {},
   "source": [
    "# 9.0 Feature Selection"
   ]
  },
  {
   "cell_type": "code",
   "execution_count": 18,
   "metadata": {
    "ExecuteTime": {
     "end_time": "2020-11-28T14:24:20.128209Z",
     "start_time": "2020-11-28T14:24:06.931074Z"
    }
   },
   "outputs": [
    {
     "name": "stderr",
     "output_type": "stream",
     "text": [
      "100%|██████████| 10/10 [00:14<00:00,  1.43s/it]"
     ]
    },
    {
     "name": "stdout",
     "output_type": "stream",
     "text": [
      "13 attributes confirmed important: ['Tenure_new', 'EstimatedSalary_new', 'Age_new', 'kmeans_group', 'NumOfProducts', 'IsActiveMember', 'Geography', 'mean_x', 'Balance_new', 'Balance', 'Age', 'EstimatedSalary', 'Gender']\n",
      "1 attributes confirmed unimportant: ['HasCrCard']\n",
      "5 tentative attributes remains: ['Tenure', 'LTV', 'mean_y', 'CreditScore_new', 'CreditScore']\n"
     ]
    },
    {
     "name": "stderr",
     "output_type": "stream",
     "text": [
      "\n"
     ]
    }
   ],
   "source": [
    "# Modelo\n",
    "model = lgb.LGBMClassifier()\n",
    "\n",
    "#Selecionador de Features\n",
    "Feature_Selector = BorutaShap(model=model,\n",
    "                              importance_measure='shap',\n",
    "                              classification=True, )\n",
    "\n",
    "Feature_Selector.fit(X=Xtrain_smt,y=ytrain_smt, n_trials=10, random_state=1)"
   ]
  },
  {
   "cell_type": "code",
   "execution_count": 19,
   "metadata": {
    "ExecuteTime": {
     "end_time": "2020-11-28T14:24:21.344879Z",
     "start_time": "2020-11-28T14:24:21.333743Z"
    }
   },
   "outputs": [
    {
     "data": {
      "text/html": [
       "<div>\n",
       "<style scoped>\n",
       "    .dataframe tbody tr th:only-of-type {\n",
       "        vertical-align: middle;\n",
       "    }\n",
       "\n",
       "    .dataframe tbody tr th {\n",
       "        vertical-align: top;\n",
       "    }\n",
       "\n",
       "    .dataframe thead th {\n",
       "        text-align: right;\n",
       "    }\n",
       "</style>\n",
       "<table border=\"1\" class=\"dataframe\">\n",
       "  <thead>\n",
       "    <tr style=\"text-align: right;\">\n",
       "      <th></th>\n",
       "      <th>Tenure_new</th>\n",
       "      <th>EstimatedSalary_new</th>\n",
       "      <th>Age_new</th>\n",
       "      <th>kmeans_group</th>\n",
       "      <th>NumOfProducts</th>\n",
       "      <th>IsActiveMember</th>\n",
       "      <th>Geography</th>\n",
       "      <th>mean_x</th>\n",
       "      <th>Balance_new</th>\n",
       "      <th>Balance</th>\n",
       "      <th>Age</th>\n",
       "      <th>EstimatedSalary</th>\n",
       "      <th>Gender</th>\n",
       "    </tr>\n",
       "  </thead>\n",
       "  <tbody>\n",
       "    <tr>\n",
       "      <th>0</th>\n",
       "      <td>5.0</td>\n",
       "      <td>8.0</td>\n",
       "      <td>4.0</td>\n",
       "      <td>0.0</td>\n",
       "      <td>0.0</td>\n",
       "      <td>0</td>\n",
       "      <td>2.0</td>\n",
       "      <td>-0.01237</td>\n",
       "      <td>1.0</td>\n",
       "      <td>0.246240</td>\n",
       "      <td>-0.181818</td>\n",
       "      <td>0.438239</td>\n",
       "      <td>0.0</td>\n",
       "    </tr>\n",
       "    <tr>\n",
       "      <th>1</th>\n",
       "      <td>8.0</td>\n",
       "      <td>3.0</td>\n",
       "      <td>7.0</td>\n",
       "      <td>1.0</td>\n",
       "      <td>1.0</td>\n",
       "      <td>1</td>\n",
       "      <td>0.0</td>\n",
       "      <td>0.00000</td>\n",
       "      <td>0.0</td>\n",
       "      <td>-0.762478</td>\n",
       "      <td>0.272727</td>\n",
       "      <td>-0.582693</td>\n",
       "      <td>1.0</td>\n",
       "    </tr>\n",
       "    <tr>\n",
       "      <th>2</th>\n",
       "      <td>5.0</td>\n",
       "      <td>4.0</td>\n",
       "      <td>0.0</td>\n",
       "      <td>0.0</td>\n",
       "      <td>0.0</td>\n",
       "      <td>1</td>\n",
       "      <td>1.0</td>\n",
       "      <td>1.00000</td>\n",
       "      <td>0.0</td>\n",
       "      <td>-0.094092</td>\n",
       "      <td>-1.181818</td>\n",
       "      <td>-0.285560</td>\n",
       "      <td>1.0</td>\n",
       "    </tr>\n",
       "    <tr>\n",
       "      <th>3</th>\n",
       "      <td>8.0</td>\n",
       "      <td>9.0</td>\n",
       "      <td>1.0</td>\n",
       "      <td>0.0</td>\n",
       "      <td>1.0</td>\n",
       "      <td>1</td>\n",
       "      <td>0.0</td>\n",
       "      <td>0.00000</td>\n",
       "      <td>0.0</td>\n",
       "      <td>0.181113</td>\n",
       "      <td>1.272727</td>\n",
       "      <td>0.704834</td>\n",
       "      <td>1.0</td>\n",
       "    </tr>\n",
       "    <tr>\n",
       "      <th>4</th>\n",
       "      <td>8.0</td>\n",
       "      <td>0.0</td>\n",
       "      <td>8.0</td>\n",
       "      <td>0.0</td>\n",
       "      <td>1.0</td>\n",
       "      <td>0</td>\n",
       "      <td>1.0</td>\n",
       "      <td>1.00000</td>\n",
       "      <td>0.0</td>\n",
       "      <td>-0.087269</td>\n",
       "      <td>0.545455</td>\n",
       "      <td>-0.926690</td>\n",
       "      <td>1.0</td>\n",
       "    </tr>\n",
       "  </tbody>\n",
       "</table>\n",
       "</div>"
      ],
      "text/plain": [
       "   Tenure_new  EstimatedSalary_new  Age_new  kmeans_group  NumOfProducts  \\\n",
       "0         5.0                  8.0      4.0           0.0            0.0   \n",
       "1         8.0                  3.0      7.0           1.0            1.0   \n",
       "2         5.0                  4.0      0.0           0.0            0.0   \n",
       "3         8.0                  9.0      1.0           0.0            1.0   \n",
       "4         8.0                  0.0      8.0           0.0            1.0   \n",
       "\n",
       "   IsActiveMember  Geography   mean_x  Balance_new   Balance       Age  \\\n",
       "0               0        2.0 -0.01237          1.0  0.246240 -0.181818   \n",
       "1               1        0.0  0.00000          0.0 -0.762478  0.272727   \n",
       "2               1        1.0  1.00000          0.0 -0.094092 -1.181818   \n",
       "3               1        0.0  0.00000          0.0  0.181113  1.272727   \n",
       "4               0        1.0  1.00000          0.0 -0.087269  0.545455   \n",
       "\n",
       "   EstimatedSalary  Gender  \n",
       "0         0.438239     0.0  \n",
       "1        -0.582693     1.0  \n",
       "2        -0.285560     1.0  \n",
       "3         0.704834     1.0  \n",
       "4        -0.926690     1.0  "
      ]
     },
     "execution_count": 19,
     "metadata": {},
     "output_type": "execute_result"
    }
   ],
   "source": [
    "# Visualizando as variáveis selecioandas\n",
    "X_subset = Feature_Selector.Subset()\n",
    "X_subset.head()"
   ]
  },
  {
   "cell_type": "markdown",
   "metadata": {},
   "source": [
    "# 10.0 Model Selection"
   ]
  },
  {
   "cell_type": "markdown",
   "metadata": {},
   "source": [
    "Comparando as a performance dos modelos, utilizando todas as variáveis contra utilizando somente as variáveis selecionadas pelo BorutaShap. Podemos observar que a melhor performance foi obtida pelo RandomForest além da de ter curvas de aprendizado convergindo de forma \"comportada\".\n",
    "\n",
    "Iremos seguir com o RandomForest, treinaremos também versões da lightGBM por ser um algoritmo de treinamento mais rapido e de boa performance, caso o RandomForest seja muito demorado.   \n",
    "\n",
    "A métrica base utilizada será o f1-score em conjunto com recall. A principal razão é por estarmos trabalhando com um problema de binário cujo o evento alvo é raro, dessa forma, queremos ter alta capacidade de detecção do evento alvo (recall) sem incorrer um muitos erros de previsão da classe negativa(F1 score nos ajuda nessa parte).\n",
    "\n",
    "Lembrando\n",
    "F1 score é média harmonica da recall e da precision.\n",
    "Recall é a taxa de detecção de uma determinada classe."
   ]
  },
  {
   "cell_type": "markdown",
   "metadata": {
    "heading_collapsed": true
   },
   "source": [
    "## Com todas as variáveis"
   ]
  },
  {
   "cell_type": "code",
   "execution_count": 20,
   "metadata": {
    "ExecuteTime": {
     "end_time": "2020-11-28T14:28:01.344835Z",
     "start_time": "2020-11-28T14:27:52.988832Z"
    },
    "hidden": true
   },
   "outputs": [
    {
     "data": {
      "text/html": [
       "<div>\n",
       "<style scoped>\n",
       "    .dataframe tbody tr th:only-of-type {\n",
       "        vertical-align: middle;\n",
       "    }\n",
       "\n",
       "    .dataframe tbody tr th {\n",
       "        vertical-align: top;\n",
       "    }\n",
       "\n",
       "    .dataframe thead th {\n",
       "        text-align: right;\n",
       "    }\n",
       "</style>\n",
       "<table border=\"1\" class=\"dataframe\">\n",
       "  <thead>\n",
       "    <tr style=\"text-align: right;\">\n",
       "      <th></th>\n",
       "      <th>LR</th>\n",
       "      <th>SVM</th>\n",
       "      <th>DecisionTree</th>\n",
       "      <th>RandomForestClassifier</th>\n",
       "      <th>LGBM</th>\n",
       "      <th>XGBOOST</th>\n",
       "    </tr>\n",
       "  </thead>\n",
       "  <tbody>\n",
       "    <tr>\n",
       "      <th>0</th>\n",
       "      <td>0.752585</td>\n",
       "      <td>0.746381</td>\n",
       "      <td>0.868095</td>\n",
       "      <td>0.895864</td>\n",
       "      <td>0.877253</td>\n",
       "      <td>0.881684</td>\n",
       "    </tr>\n",
       "  </tbody>\n",
       "</table>\n",
       "</div>"
      ],
      "text/plain": [
       "         LR       SVM  DecisionTree  RandomForestClassifier      LGBM  \\\n",
       "0  0.752585  0.746381      0.868095                0.895864  0.877253   \n",
       "\n",
       "    XGBOOST  \n",
       "0  0.881684  "
      ]
     },
     "execution_count": 20,
     "metadata": {},
     "output_type": "execute_result"
    },
    {
     "data": {
      "image/png": "[encoded data removed]",
      "text/plain": [
       "<Figure size 1440x1080 with 6 Axes>"
      ]
     },
     "metadata": {
      "needs_background": "light"
     },
     "output_type": "display_data"
    }
   ],
   "source": [
    "# Selicionando o modelo a ser trabalhado.\n",
    "model_selection(Xtrain_smt, ytrain_smt)"
   ]
  },
  {
   "cell_type": "markdown",
   "metadata": {},
   "source": [
    "## Com as variáveis selecionadas pelo Boruta."
   ]
  },
  {
   "cell_type": "code",
   "execution_count": 21,
   "metadata": {
    "ExecuteTime": {
     "end_time": "2020-11-28T14:28:15.209003Z",
     "start_time": "2020-11-28T14:28:09.179912Z"
    }
   },
   "outputs": [
    {
     "data": {
      "text/html": [
       "<div>\n",
       "<style scoped>\n",
       "    .dataframe tbody tr th:only-of-type {\n",
       "        vertical-align: middle;\n",
       "    }\n",
       "\n",
       "    .dataframe tbody tr th {\n",
       "        vertical-align: top;\n",
       "    }\n",
       "\n",
       "    .dataframe thead th {\n",
       "        text-align: right;\n",
       "    }\n",
       "</style>\n",
       "<table border=\"1\" class=\"dataframe\">\n",
       "  <thead>\n",
       "    <tr style=\"text-align: right;\">\n",
       "      <th></th>\n",
       "      <th>LR</th>\n",
       "      <th>SVM</th>\n",
       "      <th>DecisionTree</th>\n",
       "      <th>RandomForestClassifier</th>\n",
       "      <th>LGBM</th>\n",
       "      <th>XGBOOST</th>\n",
       "    </tr>\n",
       "  </thead>\n",
       "  <tbody>\n",
       "    <tr>\n",
       "      <th>0</th>\n",
       "      <td>0.750812</td>\n",
       "      <td>0.729247</td>\n",
       "      <td>0.863516</td>\n",
       "      <td>0.891876</td>\n",
       "      <td>0.875185</td>\n",
       "      <td>0.876662</td>\n",
       "    </tr>\n",
       "  </tbody>\n",
       "</table>\n",
       "</div>"
      ],
      "text/plain": [
       "         LR       SVM  DecisionTree  RandomForestClassifier      LGBM  \\\n",
       "0  0.750812  0.729247      0.863516                0.891876  0.875185   \n",
       "\n",
       "    XGBOOST  \n",
       "0  0.876662  "
      ]
     },
     "execution_count": 21,
     "metadata": {},
     "output_type": "execute_result"
    },
    {
     "data": {
      "image/png": "[encoded data removed]",
      "text/plain": [
       "<Figure size 1440x1080 with 6 Axes>"
      ]
     },
     "metadata": {
      "needs_background": "light"
     },
     "output_type": "display_data"
    }
   ],
   "source": [
    "# Selecionando o modelo a ser trabalhado\n",
    "model_selection(X_subset, ytrain_smt)"
   ]
  },
  {
   "cell_type": "markdown",
   "metadata": {},
   "source": [
    "## Testando com 'tentative attributes'"
   ]
  },
  {
   "cell_type": "code",
   "execution_count": 22,
   "metadata": {},
   "outputs": [
    {
     "data": {
      "text/html": [
       "<div>\n",
       "<style scoped>\n",
       "    .dataframe tbody tr th:only-of-type {\n",
       "        vertical-align: middle;\n",
       "    }\n",
       "\n",
       "    .dataframe tbody tr th {\n",
       "        vertical-align: top;\n",
       "    }\n",
       "\n",
       "    .dataframe thead th {\n",
       "        text-align: right;\n",
       "    }\n",
       "</style>\n",
       "<table border=\"1\" class=\"dataframe\">\n",
       "  <thead>\n",
       "    <tr style=\"text-align: right;\">\n",
       "      <th></th>\n",
       "      <th>LR</th>\n",
       "      <th>SVM</th>\n",
       "      <th>DecisionTree</th>\n",
       "      <th>RandomForestClassifier</th>\n",
       "      <th>LGBM</th>\n",
       "      <th>XGBOOST</th>\n",
       "    </tr>\n",
       "  </thead>\n",
       "  <tbody>\n",
       "    <tr>\n",
       "      <th>0</th>\n",
       "      <td>0.751108</td>\n",
       "      <td>0.736632</td>\n",
       "      <td>0.871049</td>\n",
       "      <td>0.894682</td>\n",
       "      <td>0.876366</td>\n",
       "      <td>0.88065</td>\n",
       "    </tr>\n",
       "  </tbody>\n",
       "</table>\n",
       "</div>"
      ],
      "text/plain": [
       "         LR       SVM  DecisionTree  RandomForestClassifier      LGBM  XGBOOST\n",
       "0  0.751108  0.736632      0.871049                0.894682  0.876366  0.88065"
      ]
     },
     "execution_count": 22,
     "metadata": {},
     "output_type": "execute_result"
    },
    {
     "data": {
      "image/png": "[encoded data removed]",
      "text/plain": [
       "<Figure size 1440x1080 with 6 Axes>"
      ]
     },
     "metadata": {
      "needs_background": "light"
     },
     "output_type": "display_data"
    }
   ],
   "source": [
    "Xtrain_attr = Xtrain_smt[[\n",
    "                         'Balance_new',                  \n",
    "                         'Gender',                       \n",
    "                         'IsActiveMember',               \n",
    "                         'Geography',                    \n",
    "                         'EstimatedSalary',              \n",
    "                         'Age_new',                      \n",
    "                         'EstimatedSalary_new',          \n",
    "                         'mean_x',                       \n",
    "                         'Age',                          \n",
    "                         'NumOfProducts',                \n",
    "                         'kmeans_group',                 \n",
    "                         'Balance',                      \n",
    "                         'Tenure_new',                   \n",
    "                         'Tenure',                       \n",
    "                         'CreditScore_new',\n",
    "                         'CreditScore',\n",
    "                         'mean_y',                       \n",
    "                         'LTV'                           \n",
    "                          ]]\n",
    "\n",
    "# Selecionando o modelo a ser trabalhado\n",
    "model_selection(Xtrain_attr, ytrain_smt)"
   ]
  },
  {
   "cell_type": "markdown",
   "metadata": {},
   "source": [
    "# 11.0 Tunning/Treinamento do modelo"
   ]
  },
  {
   "cell_type": "markdown",
   "metadata": {},
   "source": [
    "### Tunning-LGBM"
   ]
  },
  {
   "cell_type": "markdown",
   "metadata": {},
   "source": [
    "** LGBM: **\n",
    "\n",
    "O que é LGBM?\n",
    "\n",
    "De acordo com a documentação adequada do LightGBM, é uma estrutura de aumento de gradiente que usa algoritmos de aprendizagem baseados em árvore. Ele é projetado para ser distribuído e eficiente com as seguintes vantagens:\n",
    "\n",
    "- Maior velocidade de treinamento e maior eficiência.\n",
    "\n",
    "- Menor uso de memória.\n",
    "\n",
    "- Melhor precisão.\n",
    "\n",
    "- Suporte para aprendizagem paralela e GPU.\n",
    "\n",
    "- Capaz de lidar com dados em grande escala.\n",
    "\n",
    "A principal diferença do LightGBM em comparação com outros algoritmos baseados em árvore é que ele faz a árvore crescer de forma vertical (folha) em vez de horizontal (nível). Ele escolherá a folha com perda máxima de delta para crescer e continuar crescendo a mesma folha; normalmente, um algoritmo Leaf-wise pode reduzir mais perdas do que um algoritmo-wise.\n",
    "\n",
    "Os diagramas abaixo podem fornecer uma compreensão mais visual:\n",
    "\n",
    "Restrições: Normalmente, o LightGBM não funciona bem em pequenos conjuntos de dados, não há limite formal aqui, mas 10.000 instâncias seria um bom número.\n",
    "\n",
    "Parâmetros principais:\n",
    "\n",
    "profundidade máxima,\n",
    "boosting_type,\n",
    "taxa de Aprendizagem,\n",
    "n_estimators,\n",
    "num_leaves,\n",
    "subamostra,\n",
    "min_split_gain,\n",
    "min_split_weight,\n",
    "min_child_samples."
   ]
  },
  {
   "cell_type": "code",
   "execution_count": 24,
   "metadata": {},
   "outputs": [
    {
     "name": "stdout",
     "output_type": "stream",
     "text": [
      "Fitting 5 folds for each of 144 candidates, totalling 720 fits\n"
     ]
    },
    {
     "name": "stderr",
     "output_type": "stream",
     "text": [
      "[Parallel(n_jobs=-1)]: Using backend LokyBackend with 16 concurrent workers.\n",
      "[Parallel(n_jobs=-1)]: Done  18 tasks      | elapsed:    2.5s\n",
      "[Parallel(n_jobs=-1)]: Done 168 tasks      | elapsed:   15.4s\n",
      "[Parallel(n_jobs=-1)]: Done 418 tasks      | elapsed:   33.3s\n",
      "[Parallel(n_jobs=-1)]: Done 720 out of 720 | elapsed:   52.3s finished\n"
     ]
    },
    {
     "name": "stdout",
     "output_type": "stream",
     "text": [
      "CPU times: user 11.5 s, sys: 457 ms, total: 11.9 s\n",
      "Wall time: 53 s\n"
     ]
    }
   ],
   "source": [
    "%%time\n",
    "# Grid de Parametros\n",
    "param_grid = {\n",
    "              'learning_rate': [0.01, 0.1, 0.5, 1],\n",
    "              'n_estimators': [100, 250, 500],\n",
    "              'num_leaves': [10, 15, 31, 45],\n",
    "              'min_child_samples' : [5,10,20]\n",
    "             }\n",
    "\n",
    "# cross-validiação\n",
    "skf = StratifiedKFold(n_splits=5, shuffle=True, random_state=1)\n",
    "\n",
    "def tunnig_gridsearch(Xtrain, ytrain, model, param_grid, cv, scoring, refit):\n",
    "    \n",
    "    \n",
    "    search = GridSearchCV(estimator=model,\n",
    "                          param_grid=param_grid,\n",
    "                          scoring=scoring,\n",
    "                          refit=refit,\n",
    "                          cv=cv,\n",
    "                          verbose=1,\n",
    "                          n_jobs=-1)\n",
    "    \n",
    "    search.fit(Xtrain, ytrain)\n",
    "    \n",
    "    return search.best_params_, search.cv_results_\n",
    "\n",
    "# Tunning\n",
    "best_params, cv_results = tunnig_gridsearch(Xtrain=Xtrain_attr,\n",
    "                                             ytrain=ytrain_smt,\n",
    "                                             model=lgb.LGBMClassifier(),\n",
    "                                             param_grid=param_grid,\n",
    "                                             scoring='f1',\n",
    "                                             refit='f1',\n",
    "                                             cv=skf)"
   ]
  },
  {
   "cell_type": "code",
   "execution_count": 25,
   "metadata": {},
   "outputs": [
    {
     "data": {
      "text/plain": [
       "{'learning_rate': 0.1,\n",
       " 'min_child_samples': 20,\n",
       " 'n_estimators': 250,\n",
       " 'num_leaves': 31}"
      ]
     },
     "execution_count": 25,
     "metadata": {},
     "output_type": "execute_result"
    }
   ],
   "source": [
    "# best parameters\n",
    "best_params"
   ]
  },
  {
   "cell_type": "markdown",
   "metadata": {},
   "source": [
    "### Tunning-Random Forest"
   ]
  },
  {
   "cell_type": "markdown",
   "metadata": {},
   "source": [
    "**RandomForest:**\n",
    "\n",
    "**What is Random Forest?**\n",
    "\n",
    "Random Forest is a set of Decision Trees that are built and can be used for regression or classification tasks (our case). To better understand Random Forest we will quickly understand what Bagging is.\n",
    "\n",
    "Bagging:\n",
    "An isolated decision tree has a high variance, however, if we build several Decision Trees based on random samples taken from our dataset and average the predictions for each sample, we considerably reduce the variance of our forecasts. This process is called Bagging.\n",
    "\n",
    "The formula being:\n",
    "\n",
    "\n",
    "$$ \n",
    "fbag(x) = \\frac {1}{b}\\sum f^b(x) \n",
    "$$\n",
    "\n",
    "\n",
    "By reducing the variance through the average of several Decision Trees we were able to increase the accuracy of the model.\n",
    "\n",
    "** How does Random Forest work? **\n",
    "\n",
    "The difference between Random Forest and Bagging is at the time of each split, in the case of Random Forest, the algorithm randomly chooses m predictors from the total p predictors of the dataset, so the algorithm cannot consider all the predictors for each tree built.\n",
    "\n",
    "$$ \n",
    "m =\\sqrt[2]{p} \n",
    "$$\n",
    "\n",
    "\n",
    "What is the reason for this? In order to avoid, as in Bagging, if the dataset has a very strong predictor, all trees will be built equally, using this predictor as the main 'split'.\n",
    "Random Forests avoid this problem by forcing the algorithm to work with only part of the predictors.\n",
    "\n",
    "**Pros:**\n",
    "\n",
    "From decision trees, we can identify more significant movies, as well as the relationship between the variables\n",
    "\n",
    "Easy to understand, the visualization of the tree is easy to understand, especially when communicating the analysis process to the business areas, since it does not require any statistical knowledge to be read and interpreted.\n",
    "\n",
    "They do not presuppose the distribution of space or the structure of the classifier, nor are they restricted to data types, being able to manipulate categorical or numerical types.\n",
    "\n",
    "\n",
    "**Cons:**\n",
    "\n",
    "Overfitting is one of the biggest difficulties for decision tree models. This problem is solved by defining\n",
    "restrictions on the model and tunning parameters (pruning).\n",
    "\n",
    "Not suitable for continuous variables, the decision tree loses information when it categorizes variables in different categories.\n"
   ]
  },
  {
   "cell_type": "code",
   "execution_count": 29,
   "metadata": {},
   "outputs": [
    {
     "name": "stdout",
     "output_type": "stream",
     "text": [
      "Fitting 5 folds for each of 64 candidates, totalling 320 fits\n"
     ]
    },
    {
     "name": "stderr",
     "output_type": "stream",
     "text": [
      "[Parallel(n_jobs=-1)]: Using backend LokyBackend with 16 concurrent workers.\n",
      "[Parallel(n_jobs=-1)]: Done  18 tasks      | elapsed:    8.7s\n",
      "[Parallel(n_jobs=-1)]: Done 168 tasks      | elapsed:  1.6min\n",
      "[Parallel(n_jobs=-1)]: Done 320 out of 320 | elapsed:  3.2min finished\n"
     ]
    },
    {
     "name": "stdout",
     "output_type": "stream",
     "text": [
      "CPU times: user 27.9 s, sys: 580 ms, total: 28.5 s\n",
      "Wall time: 3min 13s\n"
     ]
    }
   ],
   "source": [
    "%%time\n",
    "# Grid de Parametros\n",
    "param_grid = {\n",
    "              'max_depth': [10, 15, 31, 45],\n",
    "              'n_estimators': [100, 250, 500, 1000],\n",
    "              'min_samples_split' : [5,10,20, 30]\n",
    "             }\n",
    "\n",
    "# cross-validiação\n",
    "skf = StratifiedKFold(n_splits=5, shuffle=True, random_state=1)\n",
    "\n",
    "def tunnig_gridsearch(Xtrain, ytrain, model, param_grid, cv, scoring, refit):\n",
    "    \n",
    "    \n",
    "    search = GridSearchCV(estimator=model,\n",
    "                          param_grid=param_grid,\n",
    "                          scoring=scoring,\n",
    "                          refit=refit,\n",
    "                          cv=cv,\n",
    "                          verbose=1,\n",
    "                          n_jobs=-1)\n",
    "    \n",
    "    search.fit(Xtrain, ytrain)\n",
    "    \n",
    "    return search.best_params_, search.cv_results_\n",
    "\n",
    "# Tunning\n",
    "best_params_random, cv_results = tunnig_gridsearch(Xtrain=Xtrain_attr,\n",
    "                                                   ytrain=ytrain_smt,\n",
    "                                                   model=RandomForestClassifier(n_jobs=-1),\n",
    "                                                   param_grid=param_grid,\n",
    "                                                   scoring='f1',\n",
    "                                                   refit='f1',\n",
    "                                                   cv=skf)"
   ]
  },
  {
   "cell_type": "code",
   "execution_count": 30,
   "metadata": {},
   "outputs": [
    {
     "data": {
      "text/plain": [
       "{'max_depth': 45, 'min_samples_split': 5, 'n_estimators': 1000}"
      ]
     },
     "execution_count": 30,
     "metadata": {},
     "output_type": "execute_result"
    }
   ],
   "source": [
    "# best parameters\n",
    "best_params_random"
   ]
  },
  {
   "cell_type": "markdown",
   "metadata": {},
   "source": [
    "## Treinando LGBM"
   ]
  },
  {
   "cell_type": "code",
   "execution_count": 26,
   "metadata": {},
   "outputs": [
    {
     "data": {
      "text/html": [
       "<div>\n",
       "<style scoped>\n",
       "    .dataframe tbody tr th:only-of-type {\n",
       "        vertical-align: middle;\n",
       "    }\n",
       "\n",
       "    .dataframe tbody tr th {\n",
       "        vertical-align: top;\n",
       "    }\n",
       "\n",
       "    .dataframe thead th {\n",
       "        text-align: right;\n",
       "    }\n",
       "</style>\n",
       "<table border=\"1\" class=\"dataframe\">\n",
       "  <thead>\n",
       "    <tr style=\"text-align: right;\">\n",
       "      <th></th>\n",
       "      <th>0</th>\n",
       "    </tr>\n",
       "  </thead>\n",
       "  <tbody>\n",
       "    <tr>\n",
       "      <th>ACC_MEAN</th>\n",
       "      <td>0.915214</td>\n",
       "    </tr>\n",
       "    <tr>\n",
       "      <th>ACC_STD</th>\n",
       "      <td>0.006538</td>\n",
       "    </tr>\n",
       "    <tr>\n",
       "      <th>KAPPA_MEAN</th>\n",
       "      <td>0.830428</td>\n",
       "    </tr>\n",
       "    <tr>\n",
       "      <th>KAPPA_STD</th>\n",
       "      <td>0.013076</td>\n",
       "    </tr>\n",
       "    <tr>\n",
       "      <th>RECALL_MEAN</th>\n",
       "      <td>0.881388</td>\n",
       "    </tr>\n",
       "    <tr>\n",
       "      <th>RECALL_STD</th>\n",
       "      <td>0.014519</td>\n",
       "    </tr>\n",
       "    <tr>\n",
       "      <th>F1_MEAN</th>\n",
       "      <td>0.912198</td>\n",
       "    </tr>\n",
       "    <tr>\n",
       "      <th>F1_STD</th>\n",
       "      <td>0.007305</td>\n",
       "    </tr>\n",
       "    <tr>\n",
       "      <th>PRECISION_MEAN</th>\n",
       "      <td>0.945453</td>\n",
       "    </tr>\n",
       "    <tr>\n",
       "      <th>PRECISION_STD</th>\n",
       "      <td>0.007785</td>\n",
       "    </tr>\n",
       "  </tbody>\n",
       "</table>\n",
       "</div>"
      ],
      "text/plain": [
       "                       0\n",
       "ACC_MEAN        0.915214\n",
       "ACC_STD         0.006538\n",
       "KAPPA_MEAN      0.830428\n",
       "KAPPA_STD       0.013076\n",
       "RECALL_MEAN     0.881388\n",
       "RECALL_STD      0.014519\n",
       "F1_MEAN         0.912198\n",
       "F1_STD          0.007305\n",
       "PRECISION_MEAN  0.945453\n",
       "PRECISION_STD   0.007785"
      ]
     },
     "execution_count": 26,
     "metadata": {},
     "output_type": "execute_result"
    }
   ],
   "source": [
    "def train_tunned_lightGBM(X, y, \n",
    "                          learning_rate,\n",
    "                          min_child_samples, \n",
    "                          n_estimators, \n",
    "                          num_leaves, \n",
    "                          n_iter, \n",
    "                          n_splits=10):\n",
    "\n",
    "    model = lgb.LGBMClassifier(objective='binary',\n",
    "                               learning_rate = learning_rate,\n",
    "                               min_child_samples = min_child_samples,\n",
    "                               n_estimators = n_estimators,\n",
    "                               num_leaves = num_leaves\n",
    "                               )\n",
    "\n",
    "    # Dicionário de metricas\n",
    "    resultados = {'ACC_MEAN': [],\n",
    "                  'ACC_STD': [],\n",
    "                  'KAPPA_MEAN': [],\n",
    "                  'KAPPA_STD': [],\n",
    "                  'RECALL_MEAN': [],\n",
    "                  'RECALL_STD': [],\n",
    "                  'F1_MEAN': [],\n",
    "                  'F1_STD': [],\n",
    "                  'PRECISION_MEAN': [],\n",
    "                  'PRECISION_STD': [] }\n",
    "    \n",
    "    # cross-validiação\n",
    "    skf = StratifiedKFold(n_splits=n_splits, shuffle=True, random_state=1)\n",
    "\n",
    "    # resultado\n",
    "    acc = []\n",
    "    kappa = []\n",
    "    recall = []\n",
    "    f1 = []\n",
    "    precision = []\n",
    "    for linhas_treino, linhas_valid in skf.split(X, y):\n",
    "\n",
    "        X_treino, X_valid = X.iloc[linhas_treino], X.iloc[linhas_valid]\n",
    "        y_treino, y_valid = y.iloc[linhas_treino], y.iloc[linhas_valid]\n",
    "\n",
    "        model.fit(X_treino, y_treino)\n",
    "        pred = model.predict(X_valid)\n",
    "        Acc = accuracy_score(y_valid, pred, normalize=True)\n",
    "        Kappa =  cohen_kappa_score(y_valid, pred)\n",
    "        Recall = recall_score(y_valid, pred, pos_label=1, average='binary')\n",
    "        F1 = f1_score(y_valid, pred, pos_label=1, average='binary')\n",
    "        Precision = precision_score(y_valid, pred, pos_label=1, average='binary')\n",
    "        acc.append(Acc)\n",
    "        kappa.append(Kappa)\n",
    "        recall.append(Recall)\n",
    "        f1.append(F1)\n",
    "        precision.append(Precision)\n",
    "\n",
    "    resultados['ACC_MEAN'].append(np.mean(acc))\n",
    "    resultados['ACC_STD'].append(np.std(acc))\n",
    "    resultados['KAPPA_MEAN'].append(np.mean(kappa))\n",
    "    resultados['KAPPA_STD'].append(np.std(kappa))\n",
    "    resultados['RECALL_MEAN'].append(np.mean(recall))\n",
    "    resultados['RECALL_STD'].append(np.std(recall))\n",
    "    resultados['F1_MEAN'].append(np.mean(f1))\n",
    "    resultados['F1_STD'].append(np.std(f1))\n",
    "    resultados['PRECISION_MEAN'].append(np.mean(precision))\n",
    "    resultados['PRECISION_STD'].append(np.std(precision))\n",
    "\n",
    "    # retrain over all data\n",
    "    model = model.fit(X, y)\n",
    "    \n",
    "    # Salvando o modelo em pickle\n",
    "    with open('models/modelo_tunned_lgbm.pkl', 'wb') as f:\n",
    "        pickle.dump(model, f)\n",
    "\n",
    "    # Painel\n",
    "    painel_df = pd.DataFrame(resultados).T\n",
    "    return painel_df, model\n",
    "\n",
    "# Treinando modelo tunnado\n",
    "painel, modelo_tunned_lgbm = train_tunned_lightGBM(X=Xtrain_attr, \n",
    "                                              y=ytrain_smt,\n",
    "                                              learning_rate=best_params['learning_rate'],\n",
    "                                              min_child_samples=best_params['min_child_samples'], \n",
    "                                              n_estimators=best_params['n_estimators'] , \n",
    "                                              num_leaves=best_params['num_leaves'],   \n",
    "                                              n_iter=5)\n",
    "\n",
    "# painel de metricas\n",
    "painel"
   ]
  },
  {
   "cell_type": "markdown",
   "metadata": {},
   "source": [
    "Podemos observar que obtemos um recall de 0.88 com um F1 0.91."
   ]
  },
  {
   "cell_type": "markdown",
   "metadata": {},
   "source": [
    "## Treinando RandomForest"
   ]
  },
  {
   "cell_type": "code",
   "execution_count": 31,
   "metadata": {},
   "outputs": [
    {
     "data": {
      "text/html": [
       "<div>\n",
       "<style scoped>\n",
       "    .dataframe tbody tr th:only-of-type {\n",
       "        vertical-align: middle;\n",
       "    }\n",
       "\n",
       "    .dataframe tbody tr th {\n",
       "        vertical-align: top;\n",
       "    }\n",
       "\n",
       "    .dataframe thead th {\n",
       "        text-align: right;\n",
       "    }\n",
       "</style>\n",
       "<table border=\"1\" class=\"dataframe\">\n",
       "  <thead>\n",
       "    <tr style=\"text-align: right;\">\n",
       "      <th></th>\n",
       "      <th>0</th>\n",
       "    </tr>\n",
       "  </thead>\n",
       "  <tbody>\n",
       "    <tr>\n",
       "      <th>ACC_MEAN</th>\n",
       "      <td>0.919719</td>\n",
       "    </tr>\n",
       "    <tr>\n",
       "      <th>ACC_STD</th>\n",
       "      <td>0.004481</td>\n",
       "    </tr>\n",
       "    <tr>\n",
       "      <th>KAPPA_MEAN</th>\n",
       "      <td>0.839439</td>\n",
       "    </tr>\n",
       "    <tr>\n",
       "      <th>KAPPA_STD</th>\n",
       "      <td>0.008962</td>\n",
       "    </tr>\n",
       "    <tr>\n",
       "      <th>RECALL_MEAN</th>\n",
       "      <td>0.896603</td>\n",
       "    </tr>\n",
       "    <tr>\n",
       "      <th>RECALL_STD</th>\n",
       "      <td>0.008171</td>\n",
       "    </tr>\n",
       "    <tr>\n",
       "      <th>F1_MEAN</th>\n",
       "      <td>0.917823</td>\n",
       "    </tr>\n",
       "    <tr>\n",
       "      <th>F1_STD</th>\n",
       "      <td>0.004457</td>\n",
       "    </tr>\n",
       "    <tr>\n",
       "      <th>PRECISION_MEAN</th>\n",
       "      <td>0.940204</td>\n",
       "    </tr>\n",
       "    <tr>\n",
       "      <th>PRECISION_STD</th>\n",
       "      <td>0.009456</td>\n",
       "    </tr>\n",
       "  </tbody>\n",
       "</table>\n",
       "</div>"
      ],
      "text/plain": [
       "                       0\n",
       "ACC_MEAN        0.919719\n",
       "ACC_STD         0.004481\n",
       "KAPPA_MEAN      0.839439\n",
       "KAPPA_STD       0.008962\n",
       "RECALL_MEAN     0.896603\n",
       "RECALL_STD      0.008171\n",
       "F1_MEAN         0.917823\n",
       "F1_STD          0.004457\n",
       "PRECISION_MEAN  0.940204\n",
       "PRECISION_STD   0.009456"
      ]
     },
     "execution_count": 31,
     "metadata": {},
     "output_type": "execute_result"
    }
   ],
   "source": [
    "def train_tunned_random(X, y, \n",
    "                        max_depth,\n",
    "                        n_estimators,\n",
    "                        min_samples_split,\n",
    "                        n_iter, \n",
    "                        n_splits=10):\n",
    "\n",
    "    model = RandomForestClassifier(max_depth = max_depth,\n",
    "                                   n_estimators = n_estimators,\n",
    "                                   min_samples_split = min_samples_split)\n",
    "\n",
    "    # Dicionário de metricas\n",
    "    resultados = {'ACC_MEAN': [],\n",
    "                  'ACC_STD': [],\n",
    "                  'KAPPA_MEAN': [],\n",
    "                  'KAPPA_STD': [],\n",
    "                  'RECALL_MEAN': [],\n",
    "                  'RECALL_STD': [],\n",
    "                  'F1_MEAN': [],\n",
    "                  'F1_STD': [],\n",
    "                  'PRECISION_MEAN': [],\n",
    "                  'PRECISION_STD': [] }\n",
    "    \n",
    "    # cross-validiação\n",
    "    skf = StratifiedKFold(n_splits=n_splits, shuffle=True, random_state=1)\n",
    "\n",
    "    # resultado\n",
    "    acc = []\n",
    "    kappa = []\n",
    "    recall = []\n",
    "    f1 = []\n",
    "    precision = []\n",
    "    for linhas_treino, linhas_valid in skf.split(X, y):\n",
    "\n",
    "        X_treino, X_valid = X.iloc[linhas_treino], X.iloc[linhas_valid]\n",
    "        y_treino, y_valid = y.iloc[linhas_treino], y.iloc[linhas_valid]\n",
    "\n",
    "        model.fit(X_treino, y_treino)\n",
    "        pred = model.predict(X_valid)\n",
    "        Acc = accuracy_score(y_valid, pred, normalize=True)\n",
    "        Kappa =  cohen_kappa_score(y_valid, pred)\n",
    "        Recall = recall_score(y_valid, pred, pos_label=1, average='binary')\n",
    "        F1 = f1_score(y_valid, pred, pos_label=1, average='binary')\n",
    "        Precision = precision_score(y_valid, pred, pos_label=1, average='binary')\n",
    "        acc.append(Acc)\n",
    "        kappa.append(Kappa)\n",
    "        recall.append(Recall)\n",
    "        f1.append(F1)\n",
    "        precision.append(Precision)\n",
    "\n",
    "    resultados['ACC_MEAN'].append(np.mean(acc))\n",
    "    resultados['ACC_STD'].append(np.std(acc))\n",
    "    resultados['KAPPA_MEAN'].append(np.mean(kappa))\n",
    "    resultados['KAPPA_STD'].append(np.std(kappa))\n",
    "    resultados['RECALL_MEAN'].append(np.mean(recall))\n",
    "    resultados['RECALL_STD'].append(np.std(recall))\n",
    "    resultados['F1_MEAN'].append(np.mean(f1))\n",
    "    resultados['F1_STD'].append(np.std(f1))\n",
    "    resultados['PRECISION_MEAN'].append(np.mean(precision))\n",
    "    resultados['PRECISION_STD'].append(np.std(precision))\n",
    "\n",
    "    # retrain over all data\n",
    "    model = model.fit(X, y)\n",
    "    \n",
    "    # Salvando o modelo em pickle\n",
    "    with open('models/modelo_tunned_random.pkl', 'wb') as f:\n",
    "        pickle.dump(model, f)\n",
    "\n",
    "    # Painel\n",
    "    painel_df = pd.DataFrame(resultados).T\n",
    "    return painel_df, model\n",
    "\n",
    "# Treinando modelo tunnado\n",
    "painel, modelo_tunned_random = train_tunned_random(X=Xtrain_attr, \n",
    "                                              y=ytrain_smt,\n",
    "                                              max_depth=best_params_random['max_depth'],\n",
    "                                              n_estimators=best_params_random['n_estimators'], \n",
    "                                              min_samples_split=best_params_random['min_samples_split'],   \n",
    "                                              n_iter=5)\n",
    "\n",
    "# painel de metricas\n",
    "painel"
   ]
  },
  {
   "cell_type": "markdown",
   "metadata": {},
   "source": [
    "Já utilizando o RandomForest, obtemos um recall de 0.89 frente ao 0.88 com LGBM , e um F1 de 0.917 frente a 0.911 com a LGBM."
   ]
  },
  {
   "cell_type": "markdown",
   "metadata": {},
   "source": [
    "# 12.0 Interpretação do Modelo"
   ]
  },
  {
   "cell_type": "code",
   "execution_count": 32,
   "metadata": {},
   "outputs": [
    {
     "data": {
      "text/plain": [
       "<Figure size 1152x720 with 0 Axes>"
      ]
     },
     "metadata": {},
     "output_type": "display_data"
    },
    {
     "data": {
      "image/png": "[encoded data removed]",
      "text/plain": [
       "<Figure size 432x288 with 1 Axes>"
      ]
     },
     "metadata": {
      "needs_background": "light"
     },
     "output_type": "display_data"
    }
   ],
   "source": [
    "# Importância das variáveis\n",
    "from scikitplot.estimators import plot_feature_importances\n",
    "\n",
    "# Variaveis\n",
    "variaveis = Xtrain_smt.columns.to_list()\n",
    "\n",
    "plt.figure(figsize=(16, 10))\n",
    "plot_feature_importances(modelo_tunned_random, feature_names=variaveis, x_tick_rotation=90)\n",
    "plt.show()"
   ]
  },
  {
   "cell_type": "markdown",
   "metadata": {},
   "source": [
    "- Podemos observar que a variável 'Age' foi a variável mais relevante na modelagem do nosso problema. Sendo os 3 principais fatores abaixo:\n",
    "       - Idade do cliente.\n",
    "       - O número de Produtos.\n",
    "       - E o Gender do cliente."
   ]
  },
  {
   "cell_type": "code",
   "execution_count": 32,
   "metadata": {},
   "outputs": [
    {
     "data": {
      "image/png": "[encoded data removed]",
      "text/plain": [
       "<Figure size 576x597.6 with 1 Axes>"
      ]
     },
     "metadata": {
      "needs_background": "light"
     },
     "output_type": "display_data"
    }
   ],
   "source": [
    "%%time\n",
    "# Shap values\n",
    "import shap\n",
    "\n",
    "f = plt.figure()\n",
    "shap_values = shap.TreeExplainer(modelo_tunned_random).shap_values(Xtrain_attr)\n",
    "shap.summary_plot(shap_values, Xtrain_attr )"
   ]
  },
  {
   "cell_type": "code",
   "execution_count": 33,
   "metadata": {},
   "outputs": [
    {
     "data": {
      "text/plain": [
       "<AxesSubplot:title={'center':'Normalized Confusion Matrix'}, xlabel='Predicted label', ylabel='True label'>"
      ]
     },
     "execution_count": 33,
     "metadata": {},
     "output_type": "execute_result"
    },
    {
     "data": {
      "image/png": "[encoded data removed]",
      "text/plain": [
       "<Figure size 432x288 with 2 Axes>"
      ]
     },
     "metadata": {
      "needs_background": "light"
     },
     "output_type": "display_data"
    }
   ],
   "source": [
    "# Confusion Matrix\n",
    "from scikitplot.metrics import plot_confusion_matrix\n",
    "\n",
    "\n",
    "Xtest_smt = Xtest_smt[['Balance_new', 'Gender', 'IsActiveMember', 'Geography',\n",
    "                       'EstimatedSalary', 'Age_new', 'EstimatedSalary_new', 'mean_x', 'Age',\n",
    "                       'NumOfProducts', 'kmeans_group', 'Balance', 'Tenure_new', 'Tenure',\n",
    "                       'CreditScore_new', 'CreditScore', 'mean_y', 'LTV']]\n",
    "\n",
    "# Predictions\n",
    "pred = modelo_tunned_random.predict(Xtest_smt)  #Xtest_smt, ytest_smt\n",
    "\n",
    "# Plot\n",
    "plot_confusion_matrix(ytest_smt, pred, normalize=True)"
   ]
  },
  {
   "cell_type": "code",
   "execution_count": 34,
   "metadata": {},
   "outputs": [
    {
     "data": {
      "image/png": "[encoded data removed]",
      "text/plain": [
       "<Figure size 432x288 with 1 Axes>"
      ]
     },
     "metadata": {
      "needs_background": "light"
     },
     "output_type": "display_data"
    }
   ],
   "source": [
    "# Learning Curves\n",
    "from scikitplot.estimators import plot_learning_curve\n",
    "\n",
    "#  Estrátegia de cross-validation \n",
    "skf = StratifiedKFold(n_splits=10, shuffle=True, random_state=1)\n",
    "\n",
    "\n",
    "plot_learning_curve(modelo_tunned_random, Xtest_smt, ytest_smt, cv=skf, scoring='f1')\n",
    "plt.show()"
   ]
  },
  {
   "cell_type": "markdown",
   "metadata": {},
   "source": [
    "# 13.0 API"
   ]
  },
  {
   "cell_type": "code",
   "execution_count": 67,
   "metadata": {},
   "outputs": [
    {
     "data": {
      "text/plain": [
       "'[{\"RowNumber\":5347,\"CustomerId\":15688644,\"Surname\":\"Holloway\",\"CreditScore\":603,\"Geography\":\"France\",\"Gender\":\"Male\",\"Age\":31,\"Tenure\":1,\"Balance\":129743.75,\"NumOfProducts\":1,\"HasCrCard\":1,\"IsActiveMember\":0,\"EstimatedSalary\":109145.2,\"Exited\":0},{\"RowNumber\":8281,\"CustomerId\":15745716,\"Surname\":\"McGregor\",\"CreditScore\":706,\"Geography\":\"Spain\",\"Gender\":\"Male\",\"Age\":53,\"Tenure\":7,\"Balance\":0.0,\"NumOfProducts\":2,\"HasCrCard\":0,\"IsActiveMember\":1,\"EstimatedSalary\":117939.17,\"Exited\":0},{\"RowNumber\":2707,\"CustomerId\":15595071,\"Surname\":\"Ramos\",\"CreditScore\":696,\"Geography\":\"France\",\"Gender\":\"Male\",\"Age\":22,\"Tenure\":9,\"Balance\":149777.0,\"NumOfProducts\":1,\"HasCrCard\":1,\"IsActiveMember\":1,\"EstimatedSalary\":198032.93,\"Exited\":0},{\"RowNumber\":6958,\"CustomerId\":15802274,\"Surname\":\"Waters\",\"CreditScore\":686,\"Geography\":\"France\",\"Gender\":\"Female\",\"Age\":44,\"Tenure\":7,\"Balance\":55053.62,\"NumOfProducts\":1,\"HasCrCard\":1,\"IsActiveMember\":0,\"EstimatedSalary\":181757.19,\"Exited\":0},{\"RowNumber\":3886,\"CustomerId\":15618255,\"Surname\":\"Fedorov\",\"CreditScore\":642,\"Geography\":\"Germany\",\"Gender\":\"Female\",\"Age\":56,\"Tenure\":6,\"Balance\":103244.86,\"NumOfProducts\":2,\"HasCrCard\":1,\"IsActiveMember\":0,\"EstimatedSalary\":143049.72,\"Exited\":1}]'"
      ]
     },
     "execution_count": 67,
     "metadata": {},
     "output_type": "execute_result"
    }
   ],
   "source": [
    "# Example Data\n",
    "test_data = churn.sample(5)\n",
    "\n",
    "# Tunnig into a json\n",
    "df_json = test_data.to_json(orient='records')\n",
    "df_json"
   ]
  },
  {
   "cell_type": "code",
   "execution_count": 62,
   "metadata": {},
   "outputs": [
    {
     "data": {
      "text/plain": [
       "str"
      ]
     },
     "execution_count": 62,
     "metadata": {},
     "output_type": "execute_result"
    }
   ],
   "source": [
    "type(df_json)"
   ]
  },
  {
   "cell_type": "markdown",
   "metadata": {},
   "source": [
    "## API_Predictions"
   ]
  },
  {
   "cell_type": "code",
   "execution_count": 68,
   "metadata": {},
   "outputs": [
    {
     "name": "stdout",
     "output_type": "stream",
     "text": [
      "500\n"
     ]
    },
    {
     "ename": "JSONDecodeError",
     "evalue": "Expecting value: line 1 column 1 (char 0)",
     "output_type": "error",
     "traceback": [
      "\u001b[0;31m---------------------------------------------------------------------------\u001b[0m",
      "\u001b[0;31mJSONDecodeError\u001b[0m                           Traceback (most recent call last)",
      "\u001b[0;32m<ipython-input-68-bdadf5bc6fa9>\u001b[0m in \u001b[0;36m<module>\u001b[0;34m\u001b[0m\n\u001b[1;32m      7\u001b[0m \u001b[0mr\u001b[0m \u001b[0;34m=\u001b[0m \u001b[0mrequests\u001b[0m\u001b[0;34m.\u001b[0m\u001b[0mpost\u001b[0m\u001b[0;34m(\u001b[0m\u001b[0murl\u001b[0m\u001b[0;34m=\u001b[0m\u001b[0murl\u001b[0m\u001b[0;34m,\u001b[0m \u001b[0mdata\u001b[0m\u001b[0;34m=\u001b[0m\u001b[0mdata\u001b[0m\u001b[0;34m,\u001b[0m \u001b[0mheaders\u001b[0m\u001b[0;34m=\u001b[0m\u001b[0mheader\u001b[0m\u001b[0;34m)\u001b[0m\u001b[0;34m\u001b[0m\u001b[0;34m\u001b[0m\u001b[0m\n\u001b[1;32m      8\u001b[0m \u001b[0mprint\u001b[0m\u001b[0;34m(\u001b[0m\u001b[0mr\u001b[0m\u001b[0;34m.\u001b[0m\u001b[0mstatus_code\u001b[0m\u001b[0;34m)\u001b[0m\u001b[0;34m\u001b[0m\u001b[0;34m\u001b[0m\u001b[0m\n\u001b[0;32m----> 9\u001b[0;31m \u001b[0mr\u001b[0m\u001b[0;34m.\u001b[0m\u001b[0mjson\u001b[0m\u001b[0;34m(\u001b[0m\u001b[0;34m)\u001b[0m\u001b[0;34m\u001b[0m\u001b[0;34m\u001b[0m\u001b[0m\n\u001b[0m",
      "\u001b[0;32m~/anaconda3/lib/python3.8/site-packages/requests/models.py\u001b[0m in \u001b[0;36mjson\u001b[0;34m(self, **kwargs)\u001b[0m\n\u001b[1;32m    896\u001b[0m                     \u001b[0;31m# used.\u001b[0m\u001b[0;34m\u001b[0m\u001b[0;34m\u001b[0m\u001b[0;34m\u001b[0m\u001b[0m\n\u001b[1;32m    897\u001b[0m                     \u001b[0;32mpass\u001b[0m\u001b[0;34m\u001b[0m\u001b[0;34m\u001b[0m\u001b[0m\n\u001b[0;32m--> 898\u001b[0;31m         \u001b[0;32mreturn\u001b[0m \u001b[0mcomplexjson\u001b[0m\u001b[0;34m.\u001b[0m\u001b[0mloads\u001b[0m\u001b[0;34m(\u001b[0m\u001b[0mself\u001b[0m\u001b[0;34m.\u001b[0m\u001b[0mtext\u001b[0m\u001b[0;34m,\u001b[0m \u001b[0;34m**\u001b[0m\u001b[0mkwargs\u001b[0m\u001b[0;34m)\u001b[0m\u001b[0;34m\u001b[0m\u001b[0;34m\u001b[0m\u001b[0m\n\u001b[0m\u001b[1;32m    899\u001b[0m \u001b[0;34m\u001b[0m\u001b[0m\n\u001b[1;32m    900\u001b[0m     \u001b[0;34m@\u001b[0m\u001b[0mproperty\u001b[0m\u001b[0;34m\u001b[0m\u001b[0;34m\u001b[0m\u001b[0m\n",
      "\u001b[0;32m~/anaconda3/lib/python3.8/json/__init__.py\u001b[0m in \u001b[0;36mloads\u001b[0;34m(s, cls, object_hook, parse_float, parse_int, parse_constant, object_pairs_hook, **kw)\u001b[0m\n\u001b[1;32m    355\u001b[0m             \u001b[0mparse_int\u001b[0m \u001b[0;32mis\u001b[0m \u001b[0;32mNone\u001b[0m \u001b[0;32mand\u001b[0m \u001b[0mparse_float\u001b[0m \u001b[0;32mis\u001b[0m \u001b[0;32mNone\u001b[0m \u001b[0;32mand\u001b[0m\u001b[0;34m\u001b[0m\u001b[0;34m\u001b[0m\u001b[0m\n\u001b[1;32m    356\u001b[0m             parse_constant is None and object_pairs_hook is None and not kw):\n\u001b[0;32m--> 357\u001b[0;31m         \u001b[0;32mreturn\u001b[0m \u001b[0m_default_decoder\u001b[0m\u001b[0;34m.\u001b[0m\u001b[0mdecode\u001b[0m\u001b[0;34m(\u001b[0m\u001b[0ms\u001b[0m\u001b[0;34m)\u001b[0m\u001b[0;34m\u001b[0m\u001b[0;34m\u001b[0m\u001b[0m\n\u001b[0m\u001b[1;32m    358\u001b[0m     \u001b[0;32mif\u001b[0m \u001b[0mcls\u001b[0m \u001b[0;32mis\u001b[0m \u001b[0;32mNone\u001b[0m\u001b[0;34m:\u001b[0m\u001b[0;34m\u001b[0m\u001b[0;34m\u001b[0m\u001b[0m\n\u001b[1;32m    359\u001b[0m         \u001b[0mcls\u001b[0m \u001b[0;34m=\u001b[0m \u001b[0mJSONDecoder\u001b[0m\u001b[0;34m\u001b[0m\u001b[0;34m\u001b[0m\u001b[0m\n",
      "\u001b[0;32m~/anaconda3/lib/python3.8/json/decoder.py\u001b[0m in \u001b[0;36mdecode\u001b[0;34m(self, s, _w)\u001b[0m\n\u001b[1;32m    335\u001b[0m \u001b[0;34m\u001b[0m\u001b[0m\n\u001b[1;32m    336\u001b[0m         \"\"\"\n\u001b[0;32m--> 337\u001b[0;31m         \u001b[0mobj\u001b[0m\u001b[0;34m,\u001b[0m \u001b[0mend\u001b[0m \u001b[0;34m=\u001b[0m \u001b[0mself\u001b[0m\u001b[0;34m.\u001b[0m\u001b[0mraw_decode\u001b[0m\u001b[0;34m(\u001b[0m\u001b[0ms\u001b[0m\u001b[0;34m,\u001b[0m \u001b[0midx\u001b[0m\u001b[0;34m=\u001b[0m\u001b[0m_w\u001b[0m\u001b[0;34m(\u001b[0m\u001b[0ms\u001b[0m\u001b[0;34m,\u001b[0m \u001b[0;36m0\u001b[0m\u001b[0;34m)\u001b[0m\u001b[0;34m.\u001b[0m\u001b[0mend\u001b[0m\u001b[0;34m(\u001b[0m\u001b[0;34m)\u001b[0m\u001b[0;34m)\u001b[0m\u001b[0;34m\u001b[0m\u001b[0;34m\u001b[0m\u001b[0m\n\u001b[0m\u001b[1;32m    338\u001b[0m         \u001b[0mend\u001b[0m \u001b[0;34m=\u001b[0m \u001b[0m_w\u001b[0m\u001b[0;34m(\u001b[0m\u001b[0ms\u001b[0m\u001b[0;34m,\u001b[0m \u001b[0mend\u001b[0m\u001b[0;34m)\u001b[0m\u001b[0;34m.\u001b[0m\u001b[0mend\u001b[0m\u001b[0;34m(\u001b[0m\u001b[0;34m)\u001b[0m\u001b[0;34m\u001b[0m\u001b[0;34m\u001b[0m\u001b[0m\n\u001b[1;32m    339\u001b[0m         \u001b[0;32mif\u001b[0m \u001b[0mend\u001b[0m \u001b[0;34m!=\u001b[0m \u001b[0mlen\u001b[0m\u001b[0;34m(\u001b[0m\u001b[0ms\u001b[0m\u001b[0;34m)\u001b[0m\u001b[0;34m:\u001b[0m\u001b[0;34m\u001b[0m\u001b[0;34m\u001b[0m\u001b[0m\n",
      "\u001b[0;32m~/anaconda3/lib/python3.8/json/decoder.py\u001b[0m in \u001b[0;36mraw_decode\u001b[0;34m(self, s, idx)\u001b[0m\n\u001b[1;32m    353\u001b[0m             \u001b[0mobj\u001b[0m\u001b[0;34m,\u001b[0m \u001b[0mend\u001b[0m \u001b[0;34m=\u001b[0m \u001b[0mself\u001b[0m\u001b[0;34m.\u001b[0m\u001b[0mscan_once\u001b[0m\u001b[0;34m(\u001b[0m\u001b[0ms\u001b[0m\u001b[0;34m,\u001b[0m \u001b[0midx\u001b[0m\u001b[0;34m)\u001b[0m\u001b[0;34m\u001b[0m\u001b[0;34m\u001b[0m\u001b[0m\n\u001b[1;32m    354\u001b[0m         \u001b[0;32mexcept\u001b[0m \u001b[0mStopIteration\u001b[0m \u001b[0;32mas\u001b[0m \u001b[0merr\u001b[0m\u001b[0;34m:\u001b[0m\u001b[0;34m\u001b[0m\u001b[0;34m\u001b[0m\u001b[0m\n\u001b[0;32m--> 355\u001b[0;31m             \u001b[0;32mraise\u001b[0m \u001b[0mJSONDecodeError\u001b[0m\u001b[0;34m(\u001b[0m\u001b[0;34m\"Expecting value\"\u001b[0m\u001b[0;34m,\u001b[0m \u001b[0ms\u001b[0m\u001b[0;34m,\u001b[0m \u001b[0merr\u001b[0m\u001b[0;34m.\u001b[0m\u001b[0mvalue\u001b[0m\u001b[0;34m)\u001b[0m \u001b[0;32mfrom\u001b[0m \u001b[0;32mNone\u001b[0m\u001b[0;34m\u001b[0m\u001b[0;34m\u001b[0m\u001b[0m\n\u001b[0m\u001b[1;32m    356\u001b[0m         \u001b[0;32mreturn\u001b[0m \u001b[0mobj\u001b[0m\u001b[0;34m,\u001b[0m \u001b[0mend\u001b[0m\u001b[0;34m\u001b[0m\u001b[0;34m\u001b[0m\u001b[0m\n",
      "\u001b[0;31mJSONDecodeError\u001b[0m: Expecting value: line 1 column 1 (char 0)"
     ]
    }
   ],
   "source": [
    "url = 'http://0.0.0.0:5000/predict'\n",
    "#url = 'https://pa001-app.herokuapp.com/predict'\n",
    "data = df_json\n",
    "header = {'Content-type': 'application/json'}\n",
    "\n",
    "# Request\n",
    "r = requests.post(url=url, data=data, headers=header)\n",
    "print(r.status_code)\n",
    "r.json()"
   ]
  },
  {
   "cell_type": "code",
   "execution_count": null,
   "metadata": {},
   "outputs": [],
   "source": []
  },
  {
   "cell_type": "code",
   "execution_count": null,
   "metadata": {},
   "outputs": [],
   "source": []
  }
 ],
 "metadata": {
  "celltoolbar": "Raw Cell Format",
  "kernelspec": {
   "display_name": "Python portfolio-env",
   "language": "python",
   "name": "portfolio-env"
  },
  "language_info": {
   "codemirror_mode": {
    "name": "ipython",
    "version": 3
   },
   "file_extension": ".py",
   "mimetype": "text/x-python",
   "name": "python",
   "nbconvert_exporter": "python",
   "pygments_lexer": "ipython3",
   "version": "3.8.5"
  },
  "toc": {
   "base_numbering": 1,
   "nav_menu": {},
   "number_sections": true,
   "sideBar": true,
   "skip_h1_title": false,
   "title_cell": "Table of Contents",
   "title_sidebar": "Contents",
   "toc_cell": false,
   "toc_position": {},
   "toc_section_display": true,
   "toc_window_display": false
  },
  "varInspector": {
   "cols": {
    "lenName": 16,
    "lenType": 16,
    "lenVar": 40
   },
   "kernels_config": {
    "python": {
     "delete_cmd_postfix": "",
     "delete_cmd_prefix": "del ",
     "library": "var_list.py",
     "varRefreshCmd": "print(var_dic_list())"
    },
    "r": {
     "delete_cmd_postfix": ") ",
     "delete_cmd_prefix": "rm(",
     "library": "var_list.r",
     "varRefreshCmd": "cat(var_dic_list()) "
    }
   },
   "types_to_exclude": [
    "module",
    "function",
    "builtin_function_or_method",
    "instance",
    "_Feature"
   ],
   "window_display": false
  }
 },
 "nbformat": 4,
 "nbformat_minor": 4
}
